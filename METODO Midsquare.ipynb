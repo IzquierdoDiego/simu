{
 "cells": [
  {
   "cell_type": "markdown",
   "metadata": {},
   "source": [
    "#                                         Metodo Midsquare"
   ]
  },
  {
   "cell_type": "markdown",
   "metadata": {},
   "source": [
    "# #Método del cuadrado medio \n",
    "\n",
    "Este método es uno de los más simples, creado por Von Neumann en 1940 y se llama método del Cuadrado \n",
    "Medio. La técnica parte desde una semilla inicial, un número enteros de 2n cifras propuesto por el usuario y los \n",
    "pasos a seguir son: \n",
    "    \n",
    "a)Se toma un X0 como semilla, tal que X0 es entero y de 2n cifras (por ej: x0=3234)\n",
    "\n",
    "b)Se calcula y como x02 (Ejemplo y=10458756) \n",
    "\n",
    "c)Se toman los 2n dígitos centrales. Este número servirá para formar el primer número y para continuar \n",
    "  calculando números pseudoaleatorios (Ejemplo: 4587)\n",
    "  \n",
    "d)El primer número pseudoaleatorio es y/ 102n  (Ejemplo: 0.4587) \n",
    "\n",
    "e)La nueva semilla es 4587, o sea, se comienza el procedimiento nuevamente para crear otro número pero \n",
    "  con la nueva semilla \n",
    "  \n",
    "  (Dpto. Computación – F.C.E. y N. - UBA)"
   ]
  },
  {
   "cell_type": "code",
   "execution_count": null,
   "metadata": {
    "collapsed": true
   },
   "outputs": [],
   "source": []
  },
  {
   "cell_type": "code",
   "execution_count": 29,
   "metadata": {
    "collapsed": false
   },
   "outputs": [
    {
     "name": "stdout",
     "output_type": "stream",
     "text": [
      "Ingrese la semilla(el valor debe ser 2n): 112345\n",
      "Ingrese la cantidad de numeros que desea generar: 3\n",
      "Primer numero aleatorio: 1 = 0.621399\n",
      "-------------------------------\n",
      "Primer numero aleatorio: 2 = 0.136717\n",
      "-------------------------------\n",
      "Primer numero aleatorio: 3 = 0.691538\n",
      "-------------------------------\n"
     ]
    }
   ],
   "source": [
    "    s=input(\"Ingrese la semilla(el valor debe ser 2n): \")\n",
    "    na=input(\"Ingrese la cantidad de numeros que desea generar: \")\n",
    "    lons=len(str(s))\n",
    "    c=1\n",
    "    s=s**2\n",
    "\n",
    "    while c<na+1:\n",
    "        s=str(s)\n",
    "\n",
    "        if len(s)%2==0 and len(s)==(2*lons): ##se valida que la semilal sea de 2n numeros y el cuadrado de 4n numeros\n",
    "\n",
    "            sp=s[((2*lons)/4):((2*3*lons)/4)]   ##se separan los numeros del medio desde \n",
    "                                             ##la cuarta parte de las semilla al cuadrado hasta la tercera parte      \n",
    "            print \"Primer numero aleatorio: \"+str(c)+\" = 0.\"+sp\n",
    "            print \"-------------------------------\"\n",
    "            c=c+1\n",
    "            sp=int(sp)\n",
    "            s=sp**2\n",
    "\n",
    "        else:                                ## se le agrega el 0 a los que no son 4n numeros y vuelve y empieza el while\n",
    "\n",
    "            nimp=\"0\"\n",
    "            s=str(s)\n",
    "            s=nimp+s\n"
   ]
  },
  {
   "cell_type": "code",
   "execution_count": null,
   "metadata": {
    "collapsed": true
   },
   "outputs": [],
   "source": []
  },
  {
   "cell_type": "markdown",
   "metadata": {
    "collapsed": true
   },
   "source": [
    " "
   ]
  },
  {
   "cell_type": "code",
   "execution_count": 30,
   "metadata": {
    "collapsed": false
   },
   "outputs": [
    {
     "name": "stdout",
     "output_type": "stream",
     "text": [
      "The Zen of Python, by Tim Peters\n",
      "\n",
      "Beautiful is better than ugly.\n",
      "Explicit is better than implicit.\n",
      "Simple is better than complex.\n",
      "Complex is better than complicated.\n",
      "Flat is better than nested.\n",
      "Sparse is better than dense.\n",
      "Readability counts.\n",
      "Special cases aren't special enough to break the rules.\n",
      "Although practicality beats purity.\n",
      "Errors should never pass silently.\n",
      "Unless explicitly silenced.\n",
      "In the face of ambiguity, refuse the temptation to guess.\n",
      "There should be one-- and preferably only one --obvious way to do it.\n",
      "Although that way may not be obvious at first unless you're Dutch.\n",
      "Now is better than never.\n",
      "Although never is often better than *right* now.\n",
      "If the implementation is hard to explain, it's a bad idea.\n",
      "If the implementation is easy to explain, it may be a good idea.\n",
      "Namespaces are one honking great idea -- let's do more of those!\n"
     ]
    }
   ],
   "source": [
    "import this"
   ]
  },
  {
   "cell_type": "code",
   "execution_count": null,
   "metadata": {
    "collapsed": true
   },
   "outputs": [],
   "source": []
  }
 ],
 "metadata": {
  "kernelspec": {
   "display_name": "Python 2",
   "language": "python",
   "name": "python2"
  },
  "language_info": {
   "codemirror_mode": {
    "name": "ipython",
    "version": 2
   },
   "file_extension": ".py",
   "mimetype": "text/x-python",
   "name": "python",
   "nbconvert_exporter": "python",
   "pygments_lexer": "ipython2",
   "version": "2.7.11"
  }
 },
 "nbformat": 4,
 "nbformat_minor": 0
}
