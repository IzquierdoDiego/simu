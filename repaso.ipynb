{
 "cells": [
  {
   "cell_type": "code",
   "execution_count": 26,
   "metadata": {
    "collapsed": false
   },
   "outputs": [],
   "source": [
    "x=1\n",
    "if x==4:\n",
    "    print \"hola\""
   ]
  },
  {
   "cell_type": "code",
   "execution_count": 18,
   "metadata": {
    "collapsed": false
   },
   "outputs": [
    {
     "name": "stdout",
     "output_type": "stream",
     "text": [
      "no hay nada\n"
     ]
    }
   ],
   "source": [
    "if x != 3:\n",
    "    print \"x es diferente de 3\"\n",
    "elif x==4:\n",
    "    print 4535\n",
    "elif x<2:\n",
    "    print \"x es 444\"\n",
    "else: \n",
    "    print \"no hay nada\""
   ]
  },
  {
   "cell_type": "code",
   "execution_count": 29,
   "metadata": {
    "collapsed": false
   },
   "outputs": [
    {
     "name": "stdout",
     "output_type": "stream",
     "text": [
      "no es mayor que 5\n",
      "4\n",
      "el bloque acabo sin romperse\n"
     ]
    }
   ],
   "source": [
    "x=1\n",
    "while x < 5:\n",
    "    print \"no es mayor que 5\"\n",
    "    \n",
    "    print x\n",
    "    x =x+1\n",
    "    if x==4:\n",
    "        break\n",
    "else:\n",
    "    print \"el bloque acabo sin romperse\""
   ]
  },
  {
   "cell_type": "code",
   "execution_count": 13,
   "metadata": {
    "collapsed": false
   },
   "outputs": [
    {
     "ename": "TypeError",
     "evalue": "'int' object is not iterable",
     "output_type": "error",
     "traceback": [
      "\u001b[1;31m---------------------------------------------------------------------------\u001b[0m",
      "\u001b[1;31mTypeError\u001b[0m                                 Traceback (most recent call last)",
      "\u001b[1;32m<ipython-input-13-fa3c0e4fbd7b>\u001b[0m in \u001b[0;36m<module>\u001b[1;34m()\u001b[0m\n\u001b[0;32m      1\u001b[0m \u001b[0mc\u001b[0m\u001b[1;33m=\u001b[0m \u001b[1;36m2\u001b[0m\u001b[1;33m\u001b[0m\u001b[0m\n\u001b[1;32m----> 2\u001b[1;33m \u001b[1;32mfor\u001b[0m \u001b[0mc\u001b[0m \u001b[1;32min\u001b[0m \u001b[1;36m4\u001b[0m\u001b[1;33m:\u001b[0m\u001b[1;33m\u001b[0m\u001b[0m\n\u001b[0m\u001b[0;32m      3\u001b[0m     \u001b[1;32mprint\u001b[0m \u001b[0mc\u001b[0m\u001b[1;33m\u001b[0m\u001b[0m\n",
      "\u001b[1;31mTypeError\u001b[0m: 'int' object is not iterable"
     ]
    }
   ],
   "source": [
    "c= 2\n",
    "for c in 4:\n",
    "    print c"
   ]
  },
  {
   "cell_type": "code",
   "execution_count": 36,
   "metadata": {
    "collapsed": false
   },
   "outputs": [
    {
     "name": "stdout",
     "output_type": "stream",
     "text": [
      "ingrese daots3\n"
     ]
    }
   ],
   "source": [
    "cadena = raw_input(\"ingrese daots\")"
   ]
  },
  {
   "cell_type": "code",
   "execution_count": 4,
   "metadata": {
    "collapsed": false
   },
   "outputs": [
    {
     "name": "stdout",
     "output_type": "stream",
     "text": [
      "4\n",
      "55355535\n"
     ]
    }
   ],
   "source": [
    "v = \"5535\"\n",
    "print len(v)\n",
    "\n",
    "b=v*2\n",
    "print b"
   ]
  },
  {
   "cell_type": "code",
   "execution_count": 1,
   "metadata": {
    "collapsed": false
   },
   "outputs": [
    {
     "name": "stdout",
     "output_type": "stream",
     "text": [
      "(1, 2, 4, 5, 2, 3, 22, 'puede incluir varios tipos de variable', 4, 4534)\n",
      "[1, 2, 4, 5, 2, 3, 22, 'puede incluir varios tipos de variable', 4, 4534]\n"
     ]
    }
   ],
   "source": [
    "#secuencias: tipo de datos que contienen un conjunto de valores\n",
    "var_tuplas = (1,2,4,5,2,3,22,\"puede incluir varios tipos de variable\",4,4534)\n",
    "print var_tuplas\n",
    "    \n",
    "var_lista = [1,2,4,5,2,3,22,\"puede incluir varios tipos de variable\",4,4534]\n",
    "print var_lista\n"
   ]
  },
  {
   "cell_type": "code",
   "execution_count": 2,
   "metadata": {
    "collapsed": false
   },
   "outputs": [
    {
     "data": {
      "text/plain": [
       "False"
      ]
     },
     "execution_count": 2,
     "metadata": {},
     "output_type": "execute_result"
    }
   ],
   "source": [
    "var_lista == var_tuplas"
   ]
  },
  {
   "cell_type": "code",
   "execution_count": 3,
   "metadata": {
    "collapsed": false
   },
   "outputs": [
    {
     "name": "stdout",
     "output_type": "stream",
     "text": [
      "1\n",
      "2\n",
      "4\n",
      "5\n",
      "2\n",
      "3\n",
      "22\n",
      "puede incluir varios tipos de variable\n",
      "4\n",
      "4534\n"
     ]
    }
   ],
   "source": [
    "for elemento in var_lista:\n",
    "    print elemento"
   ]
  },
  {
   "cell_type": "code",
   "execution_count": 4,
   "metadata": {
    "collapsed": false
   },
   "outputs": [
    {
     "data": {
      "text/plain": [
       "True"
      ]
     },
     "execution_count": 4,
     "metadata": {},
     "output_type": "execute_result"
    }
   ],
   "source": [
    "# se puede preguntar si ay un dato en la tupla o lista\n",
    "2 in var_lista"
   ]
  },
  {
   "cell_type": "code",
   "execution_count": 7,
   "metadata": {
    "collapsed": false
   },
   "outputs": [
    {
     "data": {
      "text/plain": [
       "1"
      ]
     },
     "execution_count": 7,
     "metadata": {},
     "output_type": "execute_result"
    }
   ],
   "source": [
    "var_tuplas[0] ##para capturar valores tanto de tuplas o lsitas"
   ]
  },
  {
   "cell_type": "code",
   "execution_count": 8,
   "metadata": {
    "collapsed": false
   },
   "outputs": [
    {
     "data": {
      "text/plain": [
       "4534"
      ]
     },
     "execution_count": 8,
     "metadata": {},
     "output_type": "execute_result"
    }
   ],
   "source": [
    "var_lista[-1]  # para cojer el ultmo en python cuando es negativo empieza por el ultimo\n",
    "var_tuplas[-1]"
   ]
  },
  {
   "cell_type": "code",
   "execution_count": 9,
   "metadata": {
    "collapsed": false
   },
   "outputs": [
    {
     "data": {
      "text/plain": [
       "[1, 2, 4, 5]"
      ]
     },
     "execution_count": 9,
     "metadata": {},
     "output_type": "execute_result"
    }
   ],
   "source": [
    "var_lista[0:4] # para cojer los de 4 elementos empeazndo por el 0 "
   ]
  },
  {
   "cell_type": "code",
   "execution_count": 16,
   "metadata": {
    "collapsed": false
   },
   "outputs": [
    {
     "name": "stdout",
     "output_type": "stream",
     "text": [
      "[[4, 5], [1, 2]]\n"
     ]
    }
   ],
   "source": [
    "lista_anidada = [[4,5],[1,2]] # una lista puede contener otras listas\n",
    "print lista_anidada"
   ]
  },
  {
   "cell_type": "code",
   "execution_count": 17,
   "metadata": {
    "collapsed": false
   },
   "outputs": [
    {
     "data": {
      "text/plain": [
       "5"
      ]
     },
     "execution_count": 17,
     "metadata": {},
     "output_type": "execute_result"
    }
   ],
   "source": [
    "lista_anidada[0][1] #coje del primer elemento el elemento 1"
   ]
  },
  {
   "cell_type": "markdown",
   "metadata": {},
   "source": [
    "# funciones"
   ]
  },
  {
   "cell_type": "code",
   "execution_count": 18,
   "metadata": {
    "collapsed": true
   },
   "outputs": [],
   "source": [
    "def nombre_funcion(argumentos_dela_funcion): # como se define una fnion \n",
    "    pass #argumentos\n",
    "    "
   ]
  },
  {
   "cell_type": "code",
   "execution_count": 20,
   "metadata": {
    "collapsed": false
   },
   "outputs": [],
   "source": [
    "def cuadreado(x):\n",
    "    #***eleva un nemero al cuadrado*** ##\n",
    "    y = x**2\n",
    "    return y    ## es obligatorio para devolver una variable en una funcion"
   ]
  },
  {
   "cell_type": "code",
   "execution_count": 23,
   "metadata": {
    "collapsed": false
   },
   "outputs": [
    {
     "data": {
      "text/plain": [
       "81"
      ]
     },
     "execution_count": 23,
     "metadata": {},
     "output_type": "execute_result"
    }
   ],
   "source": [
    "cuadreado(9)"
   ]
  },
  {
   "cell_type": "code",
   "execution_count": 24,
   "metadata": {
    "collapsed": true
   },
   "outputs": [],
   "source": [
    "def multiplicacion(x,y=3): #argumentos por defecto\n",
    "    v=x*y\n",
    "    return v"
   ]
  },
  {
   "cell_type": "code",
   "execution_count": 27,
   "metadata": {
    "collapsed": false
   },
   "outputs": [
    {
     "data": {
      "text/plain": [
       "9"
      ]
     },
     "execution_count": 27,
     "metadata": {},
     "output_type": "execute_result"
    }
   ],
   "source": [
    "multiplicacion(3,)"
   ]
  },
  {
   "cell_type": "code",
   "execution_count": 3,
   "metadata": {
    "collapsed": false
   },
   "outputs": [
    {
     "data": {
      "text/plain": [
       "[2, 3, 2, 3, 2, 3]"
      ]
     },
     "execution_count": 3,
     "metadata": {},
     "output_type": "execute_result"
    }
   ],
   "source": [
    "x1 = 3\n",
    "z1 = x1*[2,3]\n",
    "z1"
   ]
  },
  {
   "cell_type": "code",
   "execution_count": 8,
   "metadata": {
    "collapsed": false
   },
   "outputs": [
    {
     "data": {
      "text/plain": [
       "'345'"
      ]
     },
     "execution_count": 8,
     "metadata": {},
     "output_type": "execute_result"
    }
   ],
   "source": [
    "x1 = \"123456\"\n",
    "z1 = x1[2:5]\n",
    "z1"
   ]
  },
  {
   "cell_type": "code",
   "execution_count": 18,
   "metadata": {
    "collapsed": false
   },
   "outputs": [],
   "source": [
    "lista_rango = [1,1,2,2,3,3,4,4,5,5,6,6]\n"
   ]
  },
  {
   "cell_type": "code",
   "execution_count": 39,
   "metadata": {
    "collapsed": false
   },
   "outputs": [
    {
     "name": "stdout",
     "output_type": "stream",
     "text": [
      "0\n",
      "1\n",
      "2\n"
     ]
    }
   ],
   "source": [
    "for y in  range(3):\n",
    "    print y"
   ]
  },
  {
   "cell_type": "code",
   "execution_count": 40,
   "metadata": {
    "collapsed": false
   },
   "outputs": [
    {
     "name": "stdout",
     "output_type": "stream",
     "text": [
      "0\n"
     ]
    }
   ],
   "source": [
    "for r in range(1):\n",
    "    print r"
   ]
  },
  {
   "cell_type": "code",
   "execution_count": 42,
   "metadata": {
    "collapsed": false
   },
   "outputs": [
    {
     "name": "stdout",
     "output_type": "stream",
     "text": [
      "1\n"
     ]
    }
   ],
   "source": [
    "listi = [1]\n",
    "for r in listi:\n",
    "    print r"
   ]
  },
  {
   "cell_type": "code",
   "execution_count": null,
   "metadata": {
    "collapsed": true
   },
   "outputs": [],
   "source": []
  },
  {
   "cell_type": "markdown",
   "metadata": {
    "collapsed": true
   },
   "source": [
    "# MIDSQUARE\n"
   ]
  },
  {
   "cell_type": "code",
   "execution_count": 3,
   "metadata": {
    "collapsed": false
   },
   "outputs": [
    {
     "name": "stdout",
     "output_type": "stream",
     "text": [
      "introduce un numero con 2n caracteres(semilla) 145326564756474567458534562365\n",
      "cantidad de numeros a generar2\n",
      "21119810423917795856523852059075285969449686793262074393225\n",
      "2n**2 es diferente de 4n\n",
      "['2', '1', '1', '1', '9', '8', '1', '0', '4', '2', '3', '9', '1', '7', '7', '9', '5', '8', '5', '6', '5', '2', '3', '8', '5', '2', '0', '5', '9', '0', '7', '5', '2', '8', '5', '9', '6', '9', '4', '4', '9', '6', '8', '6', '7', '9', '3', '2', '6', '2', '0', '7', '4', '3', '9', '3', '2', '2', '5']\n",
      "0.21\n"
     ]
    }
   ],
   "source": [
    "x = input(\"introduce un numero con 2n caracteres(semilla) \")\n",
    "z = input(\"cantidad de numeros a generar\")\n",
    "\n",
    "y= x**2\n",
    "print y\n",
    "if len(str(y)) != 2*len(str(x)):\n",
    "    print \"2n**2 es diferente de 4n\"\n",
    "    lista = list(str(y))\n",
    "    print lista\n",
    "    aleatoria = \"0.\"+str(lista[0]) + str(lista[1])\n",
    "    print aleatoria\n",
    "    \n",
    "    \n",
    "else:\n",
    "    print \"2n**2 es igual a 4n \"\n",
    "    lista = list(str(y))\n",
    "    print lista\n",
    "    aleatoria = \"0.\"+str(lista[1]) + str(lista[2])\n",
    "    print aleatoria\n",
    "    "
   ]
  },
  {
   "cell_type": "raw",
   "metadata": {
    "collapsed": false
   },
   "source": [
    "import this"
   ]
  },
  {
   "cell_type": "markdown",
   "metadata": {},
   "source": [
    " $$x_n = a(x_n-1)+b modulo m$$"
   ]
  },
  {
   "cell_type": "code",
   "execution_count": null,
   "metadata": {
    "collapsed": true
   },
   "outputs": [],
   "source": []
  }
 ],
 "metadata": {
  "kernelspec": {
   "display_name": "Python 2",
   "language": "python",
   "name": "python2"
  },
  "language_info": {
   "codemirror_mode": {
    "name": "ipython",
    "version": 2
   },
   "file_extension": ".py",
   "mimetype": "text/x-python",
   "name": "python",
   "nbconvert_exporter": "python",
   "pygments_lexer": "ipython2",
   "version": "2.7.11"
  }
 },
 "nbformat": 4,
 "nbformat_minor": 0
}
