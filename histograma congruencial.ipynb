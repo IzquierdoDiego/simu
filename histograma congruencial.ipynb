{
 "cells": [
  {
   "cell_type": "markdown",
   "metadata": {
    "collapsed": true
   },
   "source": [
    "# Histograma con numeros aleatorios generados con el metodo congruencial mixto\n",
    "\n",
    "\n",
    "usando  $$x_n = 5(x_n-1)+3 (modulo 16)$$"
   ]
  },
  {
   "cell_type": "code",
   "execution_count": 2,
   "metadata": {
    "collapsed": false
   },
   "outputs": [],
   "source": [
    "na = 1000\n",
    "x0 = 7\n",
    "a = 5\n",
    "b = 3\n",
    "m = 16\n",
    "c = 0\n",
    "u = []\n",
    "while c<na:   \n",
    "    \n",
    "    xf = ((a*x0)+b)%m    \n",
    "    ## print str(c)+\"  numero aleatorio = \"+str(float(xf)/m)\n",
    "    u.append(float(xf)/m)\n",
    "    ##print u\n",
    "    c = c+1\n",
    "    x0 = xf\n",
    "    \n",
    "import random\n",
    "from matplotlib.pylab import hist, show\n",
    "hist(u,10, (0,1))\n",
    "show()  \n",
    "    \n",
    "    \n",
    "    \n",
    "\n",
    "\n",
    "    "
   ]
  },
  {
   "cell_type": "markdown",
   "metadata": {},
   "source": [
    "# modificando a"
   ]
  },
  {
   "cell_type": "code",
   "execution_count": 7,
   "metadata": {
    "collapsed": true
   },
   "outputs": [],
   "source": [
    "na = 1000\n",
    "x0 = 7\n",
    "a = 51\n",
    "b = 3\n",
    "m = 16\n",
    "c = 0\n",
    "u = []\n",
    "while c<na:   \n",
    "    \n",
    "    xf = ((a*x0)+b)%m    \n",
    "    ## print str(c)+\"  numero aleatorio = \"+str(float(xf)/m)\n",
    "    u.append(float(xf)/m)\n",
    "    ##print u\n",
    "    c = c+1\n",
    "    x0 = xf\n",
    "    \n",
    "import random\n",
    "from matplotlib.pylab import hist, show\n",
    "hist(u,10, (0,1))\n",
    "show()  \n",
    "    \n",
    "    \n",
    "    "
   ]
  },
  {
   "cell_type": "markdown",
   "metadata": {},
   "source": [
    "# modificando b"
   ]
  },
  {
   "cell_type": "code",
   "execution_count": 8,
   "metadata": {
    "collapsed": true
   },
   "outputs": [],
   "source": [
    "na = 1000\n",
    "x0 = 7\n",
    "a = 5\n",
    "b = 79\n",
    "m = 16\n",
    "c = 0\n",
    "u = []\n",
    "while c<na:   \n",
    "    \n",
    "    xf = ((a*x0)+b)%m    \n",
    "    ## print str(c)+\"  numero aleatorio = \"+str(float(xf)/m)\n",
    "    u.append(float(xf)/m)\n",
    "    ##print u\n",
    "    c = c+1\n",
    "    x0 = xf\n",
    "    \n",
    "import random\n",
    "from matplotlib.pylab import hist, show\n",
    "hist(u,10, (0,1))\n",
    "show()  \n",
    "    \n",
    "    \n",
    "    "
   ]
  },
  {
   "cell_type": "markdown",
   "metadata": {},
   "source": [
    "# modificando modulo por un primo pequeño"
   ]
  },
  {
   "cell_type": "code",
   "execution_count": 11,
   "metadata": {
    "collapsed": true
   },
   "outputs": [],
   "source": [
    "na = 1000\n",
    "x0 = 7\n",
    "a = 5\n",
    "b = 3\n",
    "m = 89\n",
    "c = 0\n",
    "u = []\n",
    "while c<na:   \n",
    "    \n",
    "    xf = ((a*x0)+b)%m    \n",
    "    ## print str(c)+\"  numero aleatorio = \"+str(float(xf)/m)\n",
    "    u.append(float(xf)/m)\n",
    "    ##print u\n",
    "    c = c+1\n",
    "    x0 = xf\n",
    "    \n",
    "import random\n",
    "from matplotlib.pylab import hist, show\n",
    "hist(u,10, (0,1))\n",
    "show()  \n",
    "    \n",
    "    \n",
    "    "
   ]
  },
  {
   "cell_type": "markdown",
   "metadata": {},
   "source": [
    "# modificando el modulo por un numero primo grande"
   ]
  },
  {
   "cell_type": "code",
   "execution_count": 12,
   "metadata": {
    "collapsed": true
   },
   "outputs": [],
   "source": [
    "na = 1000\n",
    "x0 = 7\n",
    "a = 5\n",
    "b = 3\n",
    "m = 2305843009213693951\n",
    "c = 0\n",
    "u = []\n",
    "while c<na:   \n",
    "    \n",
    "    xf = ((a*x0)+b)%m    \n",
    "    ## print str(c)+\"  numero aleatorio = \"+str(float(xf)/m)\n",
    "    u.append(float(xf)/m)\n",
    "    ##print u\n",
    "    c = c+1\n",
    "    x0 = xf\n",
    "    \n",
    "import random\n",
    "from matplotlib.pylab import hist, show\n",
    "hist(u,10, (0,1))\n",
    "show()  "
   ]
  },
  {
   "cell_type": "code",
   "execution_count": null,
   "metadata": {
    "collapsed": true
   },
   "outputs": [],
   "source": []
  }
 ],
 "metadata": {
  "kernelspec": {
   "display_name": "Python 2",
   "language": "python",
   "name": "python2"
  },
  "language_info": {
   "codemirror_mode": {
    "name": "ipython",
    "version": 2
   },
   "file_extension": ".py",
   "mimetype": "text/x-python",
   "name": "python",
   "nbconvert_exporter": "python",
   "pygments_lexer": "ipython2",
   "version": "2.7.11"
  }
 },
 "nbformat": 4,
 "nbformat_minor": 0
}
