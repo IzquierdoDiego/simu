{
 "cells": [
  {
   "cell_type": "markdown",
   "metadata": {
    "collapsed": true
   },
   "source": [
    "# Histograma con numeros aleatorios generados con el metodo congruencial mixto\n"
   ]
  },
  {
   "cell_type": "markdown",
   "metadata": {},
   "source": [
    "## numeros pequeños"
   ]
  },
  {
   "cell_type": "code",
   "execution_count": 17,
   "metadata": {
    "collapsed": false
   },
   "outputs": [],
   "source": [
    "na = 1000\n",
    "x0 = 213\n",
    "a = 5123\n",
    "b = 25\n",
    "m = 412\n",
    "c = 0\n",
    "u = []\n",
    "while c<na:   \n",
    "    \n",
    "    xf = ((a*x0)+b)%m    \n",
    "    ## print str(c)+\"  numero aleatorio = \"+str(float(xf)/m)\n",
    "    u.append(float(xf)/m)\n",
    "    ##print u\n",
    "    c = c+1\n",
    "    x0 = xf\n",
    "    \n",
    "import random\n",
    "from matplotlib.pylab import hist, show\n",
    "hist(u,10, (0,1))\n",
    "show()  \n",
    "    \n",
    "    \n",
    "    \n",
    "\n",
    "\n",
    "    "
   ]
  },
  {
   "cell_type": "markdown",
   "metadata": {},
   "source": [
    "# numeros grandes primos e impares "
   ]
  },
  {
   "cell_type": "code",
   "execution_count": 7,
   "metadata": {
    "collapsed": true
   },
   "outputs": [],
   "source": [
    "na = 1000\n",
    "x0 = 2305843009213693951\n",
    "a = 2147483647\n",
    "b = 524287\n",
    "m = 131071\n",
    "c = 0\n",
    "u = []\n",
    "while c<na:   \n",
    "    \n",
    "    xf = ((a*x0)+b)%m    \n",
    "    ## print str(c)+\"  numero aleatorio = \"+str(float(xf)/m)\n",
    "    u.append(float(xf)/m)\n",
    "    ##print u\n",
    "    c = c+1\n",
    "    x0 = xf\n",
    "    \n",
    "import random\n",
    "from matplotlib.pylab import hist, show\n",
    "hist(u,10, (0,1))\n",
    "show()  "
   ]
  },
  {
   "cell_type": "code",
   "execution_count": null,
   "metadata": {
    "collapsed": true
   },
   "outputs": [],
   "source": []
  }
 ],
 "metadata": {
  "kernelspec": {
   "display_name": "Python 2",
   "language": "python",
   "name": "python2"
  },
  "language_info": {
   "codemirror_mode": {
    "name": "ipython",
    "version": 2
   },
   "file_extension": ".py",
   "mimetype": "text/x-python",
   "name": "python",
   "nbconvert_exporter": "python",
   "pygments_lexer": "ipython2",
   "version": "2.7.11"
  }
 },
 "nbformat": 4,
 "nbformat_minor": 0
}
