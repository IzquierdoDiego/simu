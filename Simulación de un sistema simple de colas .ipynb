{
 "cells": [
  {
   "cell_type": "markdown",
   "metadata": {},
   "source": [
    "# a) D/D/1  "
   ]
  },
  {
   "cell_type": "markdown",
   "metadata": {},
   "source": [
    "# para un sistema de 10 horas con tasa de llegada de 7 personas por hora y tasa de servicio de 3 por hora"
   ]
  },
  {
   "cell_type": "code",
   "execution_count": 16,
   "metadata": {
    "collapsed": false
   },
   "outputs": [
    {
     "name": "stdout",
     "output_type": "stream",
     "text": [
      "clientes en el sistema por cada hora: \n",
      " \n",
      "[7, 11, 15, 19, 23, 27, 31, 35, 39, 43]\n",
      "\n",
      "\n",
      "\n",
      "numero promedio de cleientes en el sistema: \n",
      "25\n",
      "\n",
      "\n",
      "\n",
      "clientes en la cola por cada hora: \n",
      "\n",
      "[4, 8, 12, 16, 20, 24, 28, 32, 36, 40]\n",
      "\n",
      "\n",
      "\n",
      "numero promedio de cleientes en la cola: \n",
      "\n",
      "43\n",
      "numero de clientes en el  servicio: 3\n"
     ]
    }
   ],
   "source": [
    "import numpy as np\n",
    "import math\n",
    "import scipy as sp\n",
    "import matplotlib.pyplot as plt\n",
    "\n",
    "\n",
    "tllegada  = 7\n",
    "tservicio = 3\n",
    "suma = 7\n",
    "numprom_cli_sistema = 0\n",
    "numprom_cli_cola = 0\n",
    "num_clien_cola = []\n",
    "acum = [7]\n",
    "graficar = []\n",
    "\n",
    "for i in range(9):\n",
    "    suma = suma + tllegada -tservicio\n",
    "    acum.append(suma) \n",
    "print \"clientes en el sistema por cada hora: \\n \"\n",
    "print acum  \n",
    "print \"\\n\\n\"\n",
    "\n",
    "for i in range(10):\n",
    "    numprom_cli_sistema = numprom_cli_sistema + acum[i]\n",
    "numprom_cli_sistema = numprom_cli_sistema / 10\n",
    "print \"numero promedio de cleientes en el sistema: \"\n",
    "print numprom_cli_sistema\n",
    "print \"\\n\\n\"\n",
    "\n",
    "for i in range(10):\n",
    "    i1 = acum[i]\n",
    "    for o in range(i1):\n",
    "        graficar.append(i)\n",
    "        \n",
    "for cec in range(10):\n",
    "    num_clien_cola.append(acum[cec] - 3)\n",
    "    numprom_cli_cola = numprom_cli_cola + acum[i]\n",
    "    \n",
    "print \"clientes en la cola por cada hora: \\n\"    \n",
    "print num_clien_cola  \n",
    "print \"\\n\\n\"\n",
    "\n",
    "numprom_cli_cola = numprom_cli_cola / 10\n",
    "print \"numero promedio de cleientes en la cola: \\n\"\n",
    "print numprom_cli_cola\n",
    "    \n",
    "print \"numero de clientes en el  servicio: 3\"\n",
    "    \n",
    "plt.hist(graficar, 10, normed=True)\n",
    "plt.show()"
   ]
  },
  {
   "cell_type": "code",
   "execution_count": null,
   "metadata": {
    "collapsed": true
   },
   "outputs": [],
   "source": []
  },
  {
   "cell_type": "markdown",
   "metadata": {},
   "source": [
    "# b) lamda = 7  &  miu = 3"
   ]
  },
  {
   "cell_type": "markdown",
   "metadata": {
    "collapsed": true
   },
   "source": [
    "# para un sistema de 10 horas con tasa de llegada aprox de 7 personas por hora y tasa de servicio aprox de 3 personas por hora"
   ]
  },
  {
   "cell_type": "markdown",
   "metadata": {},
   "source": [
    "# generador de poisson para la tasa de llegada"
   ]
  },
  {
   "cell_type": "code",
   "execution_count": 51,
   "metadata": {
    "collapsed": false
   },
   "outputs": [
    {
     "name": "stdout",
     "output_type": "stream",
     "text": [
      "[7]\n",
      "[7, 4]\n",
      "[7, 4, 9]\n",
      "[7, 4, 9, 6]\n",
      "[7, 4, 9, 6]\n",
      "[7, 4, 9, 6, 8]\n",
      "[7, 4, 9, 6, 8, 9]\n",
      "[7, 4, 9, 6, 8, 9, 4]\n",
      "[7, 4, 9, 6, 8, 9, 4, 6]\n",
      "[7, 4, 9, 6, 8, 9, 4, 6, 7]\n",
      "x probables segun la probabiidad arrojada por el generador \n",
      "[7, 7, 4, 9, 6, 8, 9, 4, 6, 7]\n"
     ]
    }
   ],
   "source": [
    "%matplotlib inline\n",
    "import numpy as np\n",
    "import scipy as sp\n",
    "import matplotlib.pyplot as plt\n",
    "import math\n",
    "from scipy.integrate import quad\n",
    "\n",
    "n = 10\n",
    "p = 7\n",
    "pservicio = 3\n",
    "\n",
    "def fun_pro_poisson(n,p):  ###funcion de probabilidad \n",
    "    y=[]\n",
    "    for x in range(n):\n",
    "        y.append((float(float(np.e)**(-p))*float(p**x))/float(math.factorial(x)))\n",
    "        \n",
    "    return y\n",
    "    \n",
    "\n",
    "def fun_pro_acum(): ### creo el arreglo con la probabilidad acumulada\n",
    "    vg = []\n",
    "    vg.append(funp[0])\n",
    "    for i in range(n-1):\n",
    "        vg.append(funp[i+1]+vg[i])\n",
    "         \n",
    "    return vg\n",
    "\n",
    "def congruencial(N):\n",
    "    \n",
    "    U = []\n",
    "    on = 0\n",
    "    x0 = 14\n",
    "    while on<N:\n",
    "        \n",
    "        x0 = ((787*x0)+535)%26353\n",
    "        on = on+1\n",
    "        U.append(float(x0)/26353)\n",
    "         \n",
    "    return U\n",
    "\n",
    "def prob_de_x(n):  ## de los numeros aleatorios de el generador saco los posibles x en n\n",
    "    \n",
    "    p2 = []\n",
    "    p2 = congruencial(n)\n",
    "    listax = []\n",
    "    for i in range(n):\n",
    "        \n",
    "        for j in range(len(funa)):\n",
    "            \n",
    "            if p2[i]<funa[j]:\n",
    "                listax.append(j)\n",
    "                break\n",
    "        print listax\n",
    "    return listax      \n",
    "\n",
    "funp = fun_pro_poisson(n,p)\n",
    "\n",
    "\n",
    "funa = fun_pro_acum()\n",
    "funa.insert(0, 0)\n",
    "\n",
    "prob_x = prob_de_x(n)\n",
    "prob_x.insert(0, 7)\n",
    "print \"x probables segun la probabiidad arrojada por el generador \"\n",
    "print prob_x"
   ]
  },
  {
   "cell_type": "code",
   "execution_count": null,
   "metadata": {
    "collapsed": true
   },
   "outputs": [],
   "source": []
  },
  {
   "cell_type": "markdown",
   "metadata": {},
   "source": [
    "# generador de poisson para la tasa de servicio"
   ]
  },
  {
   "cell_type": "code",
   "execution_count": 52,
   "metadata": {
    "collapsed": false
   },
   "outputs": [
    {
     "name": "stdout",
     "output_type": "stream",
     "text": [
      "x probables segun la probabiidad arrojada por el generador \n",
      "[3, 0, 4, 1, 5, 3, 3, 1, 2, 2]\n"
     ]
    }
   ],
   "source": [
    "%matplotlib inline\n",
    "import numpy as np\n",
    "import scipy as sp\n",
    "import matplotlib.pyplot as plt\n",
    "import math\n",
    "from scipy.integrate import quad\n",
    "\n",
    "n = 10\n",
    "p = 3\n",
    "\n",
    "def fun_pro_poisson(n,p):  ###funcion de probabilidad \n",
    "    y=[]\n",
    "    for x in range(n):\n",
    "        y.append((float(float(np.e)**(-p))*float(p**x))/float(math.factorial(x)))\n",
    "    return y\n",
    "\n",
    "def fun_pro_acum(): ### creo el arreglo con la probabilidad acumulada\n",
    "    vg = []\n",
    "    vg.append(funp[0])\n",
    "    for i in range(n-1):\n",
    "        vg.append(funp[i+1]+vg[i])\n",
    "    return vg\n",
    "\n",
    "def congruencial(N):\n",
    "    \n",
    "    U = []\n",
    "    on = 0\n",
    "    x0 = 14\n",
    "    while on<N:\n",
    "        \n",
    "        x0 = ((787*x0)+535)%26353\n",
    "        on = on+1\n",
    "        U.append(float(x0)/26353)\n",
    "        \n",
    "    return U\n",
    "\n",
    "def prob_de_x(n):  ## de los numeros aleatorios de el generador saco los posibles x en n\n",
    "    \n",
    "    p2 = []\n",
    "    p2 = congruencial(n)\n",
    "    listax = []\n",
    "    for i in range(n):\n",
    "        \n",
    "        for j in range(len(funa)):\n",
    "            \n",
    "            if p2[i]<funa[j]:\n",
    "                listax.append(j)\n",
    "                break\n",
    "                \n",
    "    return listax      \n",
    "\n",
    "funp = fun_pro_poisson(n,p)\n",
    "\n",
    "\n",
    "funa = fun_pro_acum()\n",
    "\n",
    "prob_x2 = prob_de_x(n)\n",
    "\n",
    "print \"x probables segun la probabiidad arrojada por el generador \"\n",
    "print prob_x2"
   ]
  },
  {
   "cell_type": "code",
   "execution_count": null,
   "metadata": {
    "collapsed": false
   },
   "outputs": [],
   "source": []
  },
  {
   "cell_type": "code",
   "execution_count": 53,
   "metadata": {
    "collapsed": false
   },
   "outputs": [
    {
     "name": "stdout",
     "output_type": "stream",
     "text": [
      "[7, 7, 4, 9, 6, 8, 9, 4, 6, 7]\n",
      "[3, 0, 4, 1, 5, 3, 3, 1, 2, 2]\n"
     ]
    }
   ],
   "source": [
    "print  prob_x\n",
    "\n",
    "\n",
    "print  prob_x2\n",
    "\n",
    "\n"
   ]
  },
  {
   "cell_type": "code",
   "execution_count": 99,
   "metadata": {
    "collapsed": false
   },
   "outputs": [
    {
     "name": "stdout",
     "output_type": "stream",
     "text": [
      "promedio de personas en el sistema: 26\n",
      "\n",
      "\n",
      "\n",
      "promedio de personas en la cola: 23\n",
      "\n",
      "\n",
      "\n",
      "promedio de personas en el servicio: 2\n"
     ]
    },
    {
     "data": {
      "image/png": "[encoded data removed]",
      "text/plain": [
       "<matplotlib.figure.Figure at 0x7ada828>"
      ]
     },
     "metadata": {},
     "output_type": "display_data"
    }
   ],
   "source": [
    "siste = [7]\n",
    "numsiste = 7\n",
    "n = 0\n",
    "n2 = 0\n",
    "n3 = 0\n",
    "graficar1 = []\n",
    "\n",
    "for i in range(9):    \n",
    "    numsiste = numsiste + prob_x[i] - prob_x2[i]\n",
    "    siste.append(numsiste)\n",
    "\n",
    "\n",
    "for i in siste:\n",
    "    n = n+i\n",
    "n = n/10 \n",
    "print  \"promedio de personas en el sistema: \" + str(n)\n",
    "print \"\\n\\n\"\n",
    "    \n",
    "for i in range(10):\n",
    "    n2 = n2 + siste[i] - prob_x2[i]\n",
    "print \"promedio de personas en la cola: \" + str(n2/10)\n",
    "print \"\\n\\n\"\n",
    "    \n",
    "for i in prob_x2:\n",
    "    n3 = n3+i\n",
    "print  \"promedio de personas en el servicio: \" + str(n3/10)\n",
    "\n",
    "\n",
    "for i in range(10):\n",
    "    i1 = siste[i]\n",
    "    for o in range(i1):\n",
    "        graficar1.append(i)\n",
    "\n",
    "\n",
    "plt.hist(graficar1, 10, normed=True)\n",
    "plt.show()"
   ]
  },
  {
   "cell_type": "code",
   "execution_count": null,
   "metadata": {
    "collapsed": false
   },
   "outputs": [],
   "source": []
  },
  {
   "cell_type": "code",
   "execution_count": null,
   "metadata": {
    "collapsed": true
   },
   "outputs": [],
   "source": []
  }
 ],
 "metadata": {
  "kernelspec": {
   "display_name": "Python 2",
   "language": "python",
   "name": "python2"
  },
  "language_info": {
   "codemirror_mode": {
    "name": "ipython",
    "version": 2
   },
   "file_extension": ".py",
   "mimetype": "text/x-python",
   "name": "python",
   "nbconvert_exporter": "python",
   "pygments_lexer": "ipython2",
   "version": "2.7.11"
  }
 },
 "nbformat": 4,
 "nbformat_minor": 0
}
