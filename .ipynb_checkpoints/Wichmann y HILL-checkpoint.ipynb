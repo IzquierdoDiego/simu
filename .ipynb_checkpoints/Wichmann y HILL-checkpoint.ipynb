{
 "cells": [
  {
   "cell_type": "markdown",
   "metadata": {},
   "source": [
    "# CODIGO EN CONSTRUCCION. INTENTE MAS TARDE"
   ]
  },
  {
   "cell_type": "code",
   "execution_count": 1,
   "metadata": {
    "collapsed": false
   },
   "outputs": [
    {
     "ename": "SyntaxError",
     "evalue": "invalid syntax (<ipython-input-1-f4770e7bec4c>, line 1)",
     "output_type": "error",
     "traceback": [
      "\u001b[1;36m  File \u001b[1;32m\"<ipython-input-1-f4770e7bec4c>\"\u001b[1;36m, line \u001b[1;32m1\u001b[0m\n\u001b[1;33m    function get_random(seed_1, seed_2, seed_3):\u001b[0m\n\u001b[1;37m                      ^\u001b[0m\n\u001b[1;31mSyntaxError\u001b[0m\u001b[1;31m:\u001b[0m invalid syntax\n"
     ]
    }
   ],
   "source": [
    " function get_random(seed_1, seed_2, seed_3):\n",
    " 2 \n",
    " 3     seed_1 = 171 * (seed_1 % 177) - 2*(seed_1 / 177)\n",
    " 4     \n",
    " 5     if seed_1 < 0: seed_1 += 30269\n",
    " 6     \n",
    " 7     seed_2 = 172 * (seed_2 % 176) - 35*(seed_2 / 176)\n",
    " 8     \n",
    " 9     if seed_2 < 0: seed_2 += 30307\n",
    "10         \n",
    "11     seed_3 = 170 * (seed_3 % 178) - 63*(seed_3 / 178)\n",
    "12     \n",
    "13     if seed_2 < 0: seed_2 += 30323\n",
    "    \n",
    "    temp = seed_1 / 30269 + seed_2/30307 + seed_3/30323\n",
    "return temp - int(temp)"
   ]
  },
  {
   "cell_type": "code",
   "execution_count": null,
   "metadata": {
    "collapsed": true
   },
   "outputs": [],
   "source": []
  }
 ],
 "metadata": {
  "kernelspec": {
   "display_name": "Python 2",
   "language": "python",
   "name": "python2"
  },
  "language_info": {
   "codemirror_mode": {
    "name": "ipython",
    "version": 2
   },
   "file_extension": ".py",
   "mimetype": "text/x-python",
   "name": "python",
   "nbconvert_exporter": "python",
   "pygments_lexer": "ipython2",
   "version": "2.7.11"
  }
 },
 "nbformat": 4,
 "nbformat_minor": 0
}
