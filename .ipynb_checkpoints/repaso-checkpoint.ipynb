{
 "cells": [
  {
   "cell_type": "code",
   "execution_count": 26,
   "metadata": {
    "collapsed": false
   },
   "outputs": [],
   "source": [
    "x=1\n",
    "if x==4:\n",
    "    print \"hola\""
   ]
  },
  {
   "cell_type": "code",
   "execution_count": 18,
   "metadata": {
    "collapsed": false
   },
   "outputs": [
    {
     "name": "stdout",
     "output_type": "stream",
     "text": [
      "no hay nada\n"
     ]
    }
   ],
   "source": [
    "if x != 3:\n",
    "    print \"x es diferente de 3\"\n",
    "elif x==4:\n",
    "    print 4535\n",
    "elif x<2:\n",
    "    print \"x es 444\"\n",
    "else: \n",
    "    print \"no hay nada\""
   ]
  },
  {
   "cell_type": "code",
   "execution_count": 29,
   "metadata": {
    "collapsed": false
   },
   "outputs": [
    {
     "name": "stdout",
     "output_type": "stream",
     "text": [
      "no es mayor que 5\n",
      "4\n",
      "el bloque acabo sin romperse\n"
     ]
    }
   ],
   "source": [
    "x=1\n",
    "while x < 5:\n",
    "    print \"no es mayor que 5\"\n",
    "    \n",
    "    print x\n",
    "    x =x+1\n",
    "    if x==4:\n",
    "        break\n",
    "else:\n",
    "    print \"el bloque acabo sin romperse\""
   ]
  },
  {
   "cell_type": "code",
   "execution_count": 33,
   "metadata": {
    "collapsed": false
   },
   "outputs": [
    {
     "ename": "TypeError",
     "evalue": "'int' object is not iterable",
     "output_type": "error",
     "traceback": [
      "\u001b[1;31m---------------------------------------------------------------------------\u001b[0m",
      "\u001b[1;31mTypeError\u001b[0m                                 Traceback (most recent call last)",
      "\u001b[1;32m<ipython-input-33-fa3c0e4fbd7b>\u001b[0m in \u001b[0;36m<module>\u001b[1;34m()\u001b[0m\n\u001b[0;32m      1\u001b[0m \u001b[0mc\u001b[0m\u001b[1;33m=\u001b[0m \u001b[1;36m2\u001b[0m\u001b[1;33m\u001b[0m\u001b[0m\n\u001b[1;32m----> 2\u001b[1;33m \u001b[1;32mfor\u001b[0m \u001b[0mc\u001b[0m \u001b[1;32min\u001b[0m \u001b[1;36m4\u001b[0m\u001b[1;33m:\u001b[0m\u001b[1;33m\u001b[0m\u001b[0m\n\u001b[0m\u001b[0;32m      3\u001b[0m     \u001b[1;32mprint\u001b[0m \u001b[0mc\u001b[0m\u001b[1;33m\u001b[0m\u001b[0m\n",
      "\u001b[1;31mTypeError\u001b[0m: 'int' object is not iterable"
     ]
    }
   ],
   "source": [
    "c= 2\n",
    "for c in 4:\n",
    "    print c"
   ]
  },
  {
   "cell_type": "code",
   "execution_count": 36,
   "metadata": {
    "collapsed": false
   },
   "outputs": [
    {
     "name": "stdout",
     "output_type": "stream",
     "text": [
      "ingrese daots3\n"
     ]
    }
   ],
   "source": [
    "cadena = raw_input(\"ingrese daots\")"
   ]
  },
  {
   "cell_type": "code",
   "execution_count": 4,
   "metadata": {
    "collapsed": false
   },
   "outputs": [
    {
     "name": "stdout",
     "output_type": "stream",
     "text": [
      "4\n",
      "55355535\n"
     ]
    }
   ],
   "source": [
    "v = \"5535\"\n",
    "print len(v)\n",
    "\n",
    "b=v*2\n",
    "print b"
   ]
  },
  {
   "cell_type": "code",
   "execution_count": 1,
   "metadata": {
    "collapsed": false
   },
   "outputs": [
    {
     "name": "stdout",
     "output_type": "stream",
     "text": [
      "(1, 2, 4, 5, 2, 3, 22, 'puede incluir varios tipos de variable', 4, 4534)\n",
      "[1, 2, 4, 5, 2, 3, 22, 'puede incluir varios tipos de variable', 4, 4534]\n"
     ]
    }
   ],
   "source": [
    "#secuencias: tipo de datos que contienen un conjunto de valores\n",
    "var_tuplas = (1,2,4,5,2,3,22,\"puede incluir varios tipos de variable\",4,4534)\n",
    "print var_tuplas\n",
    "    \n",
    "var_lista = [1,2,4,5,2,3,22,\"puede incluir varios tipos de variable\",4,4534]\n",
    "print var_lista\n"
   ]
  },
  {
   "cell_type": "code",
   "execution_count": 2,
   "metadata": {
    "collapsed": false
   },
   "outputs": [
    {
     "data": {
      "text/plain": [
       "False"
      ]
     },
     "execution_count": 2,
     "metadata": {},
     "output_type": "execute_result"
    }
   ],
   "source": [
    "var_lista == var_tuplas"
   ]
  },
  {
   "cell_type": "code",
   "execution_count": 3,
   "metadata": {
    "collapsed": false
   },
   "outputs": [
    {
     "name": "stdout",
     "output_type": "stream",
     "text": [
      "1\n",
      "2\n",
      "4\n",
      "5\n",
      "2\n",
      "3\n",
      "22\n",
      "puede incluir varios tipos de variable\n",
      "4\n",
      "4534\n"
     ]
    }
   ],
   "source": [
    "for elemento in var_lista:\n",
    "    print elemento"
   ]
  },
  {
   "cell_type": "code",
   "execution_count": null,
   "metadata": {
    "collapsed": true
   },
   "outputs": [],
   "source": []
  },
  {
   "cell_type": "code",
   "execution_count": 2,
   "metadata": {
    "collapsed": false
   },
   "outputs": [],
   "source": [
    "import this"
   ]
  }
 ],
 "metadata": {
  "kernelspec": {
   "display_name": "Python 2",
   "language": "python",
   "name": "python2"
  },
  "language_info": {
   "codemirror_mode": {
    "name": "ipython",
    "version": 2
   },
   "file_extension": ".py",
   "mimetype": "text/x-python",
   "name": "python",
   "nbconvert_exporter": "python",
   "pygments_lexer": "ipython2",
   "version": "2.7.11"
  }
 },
 "nbformat": 4,
 "nbformat_minor": 0
}
