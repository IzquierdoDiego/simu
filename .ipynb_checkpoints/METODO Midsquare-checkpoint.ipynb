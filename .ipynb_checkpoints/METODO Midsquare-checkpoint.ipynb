{
 "cells": [
  {
   "cell_type": "markdown",
   "metadata": {},
   "source": [
    "# Metodo Midsquare"
   ]
  },
  {
   "cell_type": "code",
   "execution_count": 1,
   "metadata": {
    "collapsed": false
   },
   "outputs": [
    {
     "name": "stdout",
     "output_type": "stream",
     "text": [
      "introduce un numero con 2n caracteres(semilla) 25\n",
      "cantidad de numeros a generar2\n",
      "625\n",
      "2n**2 es diferente de 4n\n",
      "['6', '2', '5']\n",
      "0.62\n"
     ]
    }
   ],
   "source": [
    "x = input(\"introduce un numero con 2n caracteres(semilla) \")\n",
    "z = input(\"cantidad de numeros a generar\")\n",
    "\n",
    "y= x**2\n",
    "print y\n",
    "if len(str(y)) != 2*len(str(x)):\n",
    "    print \"2n**2 es diferente de 4n\"\n",
    "    lista = list(str(y))\n",
    "    print lista\n",
    "    aleatoria = \"0.\"+str(lista[0]) + str(lista[1])\n",
    "    print aleatoria\n",
    "    \n",
    "    \n",
    "else:\n",
    "    print \"2n**2 es igual a 4n \"\n",
    "    lista = list(str(y))\n",
    "    print lista\n",
    "    aleatoria = \"0.\"+str(lista[1]) + str(lista[2])\n",
    "    print aleatoria\n",
    "    \n",
    "    \n",
    "    "
   ]
  },
  {
   "cell_type": "markdown",
   "metadata": {
    "collapsed": true
   },
   "source": [
    "# "
   ]
  }
 ],
 "metadata": {
  "kernelspec": {
   "display_name": "Python 2",
   "language": "python",
   "name": "python2"
  },
  "language_info": {
   "codemirror_mode": {
    "name": "ipython",
    "version": 2
   },
   "file_extension": ".py",
   "mimetype": "text/x-python",
   "name": "python",
   "nbconvert_exporter": "python",
   "pygments_lexer": "ipython2",
   "version": "2.7.11"
  }
 },
 "nbformat": 4,
 "nbformat_minor": 0
}
