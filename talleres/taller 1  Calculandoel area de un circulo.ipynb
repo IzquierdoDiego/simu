{
 "cells": [
  {
   "cell_type": "code",
   "execution_count": null,
   "metadata": {
    "collapsed": true
   },
   "outputs": [],
   "source": []
  },
  {
   "cell_type": "code",
   "execution_count": 26,
   "metadata": {
    "collapsed": false
   },
   "outputs": [
    {
     "name": "stdout",
     "output_type": "stream",
     "text": [
      "Ingrese la cantidad de numeros que desea generar: 545\n",
      "Ingrese el radio de la circunferencia: 4\n"
     ]
    }
   ],
   "source": [
    "import numpy as np     ## https://www.youtube.com/watch?v=UltVlYCacD0\n",
    "import matplotlib.pyplot as plt  ## https://www.youtube.com/watch?v=RdnTJfFiqO4\n",
    "import math\n",
    " \n",
    "na=input(\"Ingrese la cantidad de numeros que desea generar: \")\n",
    "\n",
    "def randux(na):\n",
    "    \n",
    "    Ux =[]\n",
    "    x0 = 35533\n",
    "    c = 0\n",
    "    while c<na:\n",
    "        x0 =((86534*x0)+45435)%30269\n",
    "        c = c+1\n",
    "       \n",
    "        Ux.append(float(x0)/30269)\n",
    "        \n",
    "    return Ux\n",
    " \n",
    "def randuy(na):\n",
    "    \n",
    "    Uy = []\n",
    "    x0 = 62345\n",
    "    c = 0\n",
    "    while c<na:\n",
    "        x0 =((62345*x0)+54)%30323\n",
    "        c = c+1\n",
    "         \n",
    "        Uy.append(float(x0)/30323)   ## http://pythonya.appspot.com/detalleconcepto?deta=Las%20listas%20tratadas%20como%20objetos\n",
    "        \n",
    "    return Uy\n",
    "\n",
    "def AreaCalculada(r):\n",
    "    \n",
    "    rc = r**2\n",
    "     \n",
    "    rand1X = randux(na)\n",
    "    rand1Y = randuy(na)\n",
    "    \n",
    "    N = 0\n",
    "    \n",
    "    global pAzulX\n",
    "    global pAzulY    \n",
    "    global pAmarilloX\n",
    "    global pAmarilloY\n",
    "    areaEstimada = 0\n",
    "    \n",
    "    for i in range(len(rand1X)):\n",
    "        \n",
    "        xy = ((rand1X[i]*2*r)-r)**2 + ((rand1Y[i]*2*r)-r)**2\n",
    "        \n",
    "        if rc >= xy:\n",
    "            N += 1\n",
    "            pAzulX.append((rand1X[i]*2*r)-r)\n",
    "            pAzulY.append((rand1Y[i]*2*r)-r)\n",
    "            \n",
    "        else:            \n",
    "            \n",
    "            pAmarilloX.append((rand1X[i]*2*r)-r)\n",
    "            pAmarilloY.append((rand1Y[i]*2*r)-r)     \n",
    "            \n",
    "    areaEstimada = N/float(len(rand1X))*(2*r)**2\n",
    "    return areaEstimada\n",
    "\n",
    "\n",
    "def circunferencia(r, areaEstimada):\n",
    "    \n",
    "    fig, ax = plt.subplots()\n",
    "    \n",
    "    ax.plot(pAzulX, pAzulY, \"o\", color=\"blue\")\n",
    "    ax.plot(pAmarilloX, pAmarilloY, \"o\", color=\"yellow\")    \n",
    "    \n",
    "    an = np.linspace(0, 2*np.pi, 100)\n",
    "    \n",
    "    plt.plot(r*np.cos(an), r*np.sin(an))\n",
    "    plt.axis(\"equal\")    ##http://matplotlib.org/api/axes_api.html\n",
    "    plt.axis([-r, r, -r, r])\n",
    "    \n",
    "    areac = math.pi*r**2\n",
    "    \n",
    "    er = abs(areac-areaEstimada)\n",
    "    \n",
    "    title = \"Area Estimada: \"+str(round(areaEstimada*100)/100)+\"Area Real: \"+str(round(areac*100)/100)+\" Error: \"+str(round(er*100)/100)\n",
    "    plt.title(title, fontsize=15)    \n",
    "    plt.show()\n",
    "    \n",
    "pAzulX = []\n",
    "pAzulY = []    \n",
    "pAmarilloX = []\n",
    "pAmarilloY = []\n",
    "r = input('Ingrese el radio de la circunferencia: ')\n",
    "areaEstimada = AreaCalculada(r)\n",
    "circunferencia(r, areaEstimada)\n"
   ]
  },
  {
   "cell_type": "code",
   "execution_count": 4,
   "metadata": {
    "collapsed": false
   },
   "outputs": [
    {
     "name": "stdout",
     "output_type": "stream",
     "text": [
      "The Zen of Python, by Tim Peters\n",
      "\n",
      "Beautiful is better than ugly.\n",
      "Explicit is better than implicit.\n",
      "Simple is better than complex.\n",
      "Complex is better than complicated.\n",
      "Flat is better than nested.\n",
      "Sparse is better than dense.\n",
      "Readability counts.\n",
      "Special cases aren't special enough to break the rules.\n",
      "Although practicality beats purity.\n",
      "Errors should never pass silently.\n",
      "Unless explicitly silenced.\n",
      "In the face of ambiguity, refuse the temptation to guess.\n",
      "There should be one-- and preferably only one --obvious way to do it.\n",
      "Although that way may not be obvious at first unless you're Dutch.\n",
      "Now is better than never.\n",
      "Although never is often better than *right* now.\n",
      "If the implementation is hard to explain, it's a bad idea.\n",
      "If the implementation is easy to explain, it may be a good idea.\n",
      "Namespaces are one honking great idea -- let's do more of those!\n"
     ]
    }
   ],
   "source": [
    "import this"
   ]
  },
  {
   "cell_type": "code",
   "execution_count": null,
   "metadata": {
    "collapsed": true
   },
   "outputs": [],
   "source": []
  }
 ],
 "metadata": {
  "kernelspec": {
   "display_name": "Python 2",
   "language": "python",
   "name": "python2"
  },
  "language_info": {
   "codemirror_mode": {
    "name": "ipython",
    "version": 2
   },
   "file_extension": ".py",
   "mimetype": "text/x-python",
   "name": "python",
   "nbconvert_exporter": "python",
   "pygments_lexer": "ipython2",
   "version": "2.7.11"
  }
 },
 "nbformat": 4,
 "nbformat_minor": 0
}
