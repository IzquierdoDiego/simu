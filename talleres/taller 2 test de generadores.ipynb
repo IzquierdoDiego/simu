{
 "cells": [
  {
   "cell_type": "markdown",
   "metadata": {},
   "source": [
    "# Números Aleatorios\n",
    "\n",
    "En la unidad anterior se describio como primer paso de los experimentos de simulación, la selección de una fuente de números aleatorios y la obtención de los mismos. Por lo tanto, disponer de un buen generador de números aleatorios es fundamental en Simulación. De hecho, constituye también una parte fundamental en otras áreas, como la Informática (algoritmos aleatorizados, verificación de algoritmos, complejidad de algoritmos, criptografía, ...), la Estadística (métodos de muestreo y remuestreo, contrastes Montecarlo, Inferencia Bayesiana, ...), y, en general, en cualquier problema de cálculo científico que, de manera directa o indirecta, incluya algún elemento probabilístico incluyendo los juegos de video."
   ]
  },
  {
   "cell_type": "markdown",
   "metadata": {},
   "source": [
    "## ¿Porqué estudiar generadores de números aleatorios?\n",
    "\n",
    "Actualmente existen multiples generadores de números aleatorios en diferentes entornos y compiladores lo cual supondría para un usuario de la Simulación que no es necesario su estudio. Sin embargo, estudios sobre algunos generadores comerciales sugieren que debemos actuar con cuidado con el uso de ellos. Incluso, el uso progresivo de modelos de simulación cada vez más detallados exige generadores de números aleatorios de mayor calidad."
   ]
  },
  {
   "cell_type": "markdown",
   "metadata": {},
   "source": [
    "## ¿Cómo determinar si un generador de numeros aleatorios es apropiado?\n",
    "\n",
    "##Pruebas o contrastes empíricos\n",
    "\n",
    "Normalmente, pasaremos un conjunto de pruebas cuando introduzcamos un nuevo generador, o cuando deseamos analizar si un generador del que desconozcamos su algoritmo subyacente es suficientemente bueno para nuestros propósitos."
   ]
  },
  {
   "cell_type": "markdown",
   "metadata": {},
   "source": [
    "### Constraste o prueba de Kolmogorov-Smirnov\n",
    "\n",
    "Consideramos el caso en que $F_0$ es continua. La función de distribución empírica de una muestra $X_1, X_2,...,X_n$ se define como:\n",
    "\n",
    "$$F(x)=\\frac{\\#\\{X_{i}\\leq x\\}}{n}$$\n",
    "\n",
    "Bajo la hipótesis nula $H_0:F_X(x)=F_0(x)$, esperamos que $F_n$ se aproxime a $F_0$. Definimos el estadístico bilateral de Kolmogorov-Smirnov\n",
    "\n",
    "$$D_{n}=\\underset{x\\in\\mathbb{R}}{\\sup}\\left|F_{n}(x)-F_{0}(x)\\right|$$\n",
    "\n",
    "La distribución exacta de $D_n$ está tabulada para valores seleccionados de $n\\leq40$ y del nivel de significación $\\alpha$. Para muestras grandes, se utiliza la distribución asintótica de $D_n$, que viene dada, para todo $z\\leq0$, por\n",
    "\n",
    "$$\\underset{n\\rightarrow\\infty}{\\lim}P(\\sqrt{n}D_{n}\\leq z)=L(z)=1-2\\overset{\\infty}{\\underset{i=1}{\\sum}}(-1)^{i-1}e^{-2i^{2}z^{2}}$$\n",
    "\n",
    "$L(z)$ está tabulada y se comprueba que la aproximación es suficientemente buena para $n\\geq35$. Intuitivamente, esperamos que $D_n$ sea pequeño cuando la hipótesis nula es cierta.\n",
    "En nuestro caso particula de aleatoriedad, si $X_{(1)}<X_{(2)}<...<X_{(n)}$ designa al estadístico de orden, $F_0(x_{(i)})=x_{(i)}$, y como $F_n(x_{(i)})=i/n$, resulta:\n",
    "\n",
    "$$D_{n}=\\underset{i\\leq i\\leq n}{\\max}\\left\\{ \\max\\left[\\left|\\frac{i}{n}-x_{(i)}\\right|,\\left|x_{(i)}-\\frac{i-1}{n}\\right|\\right]\\right\\}$$\n",
    "\n",
    "\n",
    "\n",
    "<img src=\"imagenes/300px-KS_Example.png\" width=\"30%\" height=\"30%\" >\n",
    "<center>Figura. Ilustración del estadístico de Kolmogorov–Smirnov (K–S). La línea roja es una función de distribución acumulada (cumulative distribution function, CDF), la línea azul es una función empirica de distribución acumulada (empirical cumulative distribution function, ECDF), y la línea negra es el estadístico K–S. Imagen tomada de Wikipedia [https://en.wikipedia.org/wiki/Kolmogorov%E2%80%93Smirnov_test]</center>\n",
    "\n",
    "\n"
   ]
  },
  {
   "cell_type": "markdown",
   "metadata": {},
   "source": [
    "# Ejemplo"
   ]
  },
  {
   "cell_type": "code",
   "execution_count": 25,
   "metadata": {
    "collapsed": false
   },
   "outputs": [
    {
     "data": {
      "image/png": "[encoded data removed]",
      "text/plain": [
       "<matplotlib.figure.Figure at 0x74b28d0>"
      ]
     },
     "metadata": {},
     "output_type": "display_data"
    }
   ],
   "source": [
    "%matplotlib inline \n",
    "\n",
    "import numpy as np\n",
    "import math\n",
    "import scipy as sp\n",
    "import matplotlib.pyplot as plt\n",
    "\n",
    "N = 5000\n",
    "\n",
    "# Teoretical CDF for Uniform distribution F(x)\n",
    "u = [1.0] * N\n",
    "#print(u)\n",
    "# Gerate random numbers with Uniform distribution f(x)\n",
    "#np.random.seed(123456789)\n",
    "\n",
    "x= np.random.uniform(0,1,N)\n",
    "\n",
    "# Plot empirical distribution f(x)\n",
    "count, bins, ignored = plt.hist(x, 50, normed=True)\n",
    "plt.plot(bins, np.ones_like(bins), linewidth=2, color='r')\n",
    "plt.show()\n"
   ]
  },
  {
   "cell_type": "markdown",
   "metadata": {},
   "source": [
    "# generador aleatorio"
   ]
  },
  {
   "cell_type": "code",
   "execution_count": 26,
   "metadata": {
    "collapsed": false
   },
   "outputs": [
    {
     "data": {
      "image/png": "[encoded data removed]",
      "text/plain": [
       "<matplotlib.figure.Figure at 0x6a06ac8>"
      ]
     },
     "metadata": {},
     "output_type": "display_data"
    }
   ],
   "source": [
    "def genale(N):\n",
    "    a=[]\n",
    "    x=0\n",
    "    x0=7\n",
    "    while x<N:\n",
    "        x0=((26*x0)+43)%1509\n",
    "        x=x+1\n",
    "        a.append(float(x0)/1509)\n",
    "    return a\n",
    "\n",
    "vg = genale(N)\n",
    "\n",
    "count, bins, ignored = plt.hist(vg, 50, normed=True)\n",
    "plt.plot(bins, np.ones_like(bins), linewidth=2, color='r')\n",
    "plt.title(\"Generador de numeros aleatorios\")\n",
    "plt.show()"
   ]
  },
  {
   "cell_type": "markdown",
   "metadata": {},
   "source": [
    "# RANDU"
   ]
  },
  {
   "cell_type": "code",
   "execution_count": 27,
   "metadata": {
    "collapsed": false
   },
   "outputs": [
    {
     "data": {
      "image/png": "[encoded data removed]",
      "text/plain": [
       "<matplotlib.figure.Figure at 0x72d9dd8>"
      ]
     },
     "metadata": {},
     "output_type": "display_data"
    }
   ],
   "source": [
    "def randu(N):\n",
    "    a=[]\n",
    "    x=0\n",
    "    x0=7\n",
    "    while x<N:\n",
    "        x0=((65539*x0))%(2**31)\n",
    "        x=x+1\n",
    "        a.append(float(x0)/(2**31))\n",
    "    return a\n",
    "\n",
    "gr = randu(N)\n",
    "\n",
    "count, bins, ignored = plt.hist(gr, 50, normed=True)\n",
    "plt.plot(bins, np.ones_like(bins), linewidth=2, color='r')\n",
    "plt.title(\" Randu\")\n",
    "plt.show()"
   ]
  },
  {
   "cell_type": "markdown",
   "metadata": {},
   "source": [
    "# Sinclair"
   ]
  },
  {
   "cell_type": "code",
   "execution_count": 28,
   "metadata": {
    "collapsed": false
   },
   "outputs": [
    {
     "data": {
      "image/png": "[encoded data removed]",
      "text/plain": [
       "<matplotlib.figure.Figure at 0x7aca198>"
      ]
     },
     "metadata": {},
     "output_type": "display_data"
    }
   ],
   "source": [
    "def sinclair(N):\n",
    "    a=[]\n",
    "    x=0\n",
    "    x0=7\n",
    "    while x<N:\n",
    "        x0=((75*x0))%((2**16)+1)\n",
    "        x=x+1\n",
    "        a.append(float(x0)/((2**16)+1))\n",
    "    return a\n",
    "\n",
    "gs = sinclair(N)\n",
    "\n",
    "count, bins, ignored = plt.hist(gs, 50, normed=True)\n",
    "plt.plot(bins, np.ones_like(bins), linewidth=2, color='r')\n",
    "plt.title(\" Sinclair\")\n",
    "plt.show()"
   ]
  },
  {
   "cell_type": "markdown",
   "metadata": {},
   "source": [
    "# Numerical reciepes"
   ]
  },
  {
   "cell_type": "code",
   "execution_count": 29,
   "metadata": {
    "collapsed": false
   },
   "outputs": [
    {
     "data": {
      "image/png": "[encoded data removed]",
      "text/plain": [
       "<matplotlib.figure.Figure at 0x7811780>"
      ]
     },
     "metadata": {},
     "output_type": "display_data"
    }
   ],
   "source": [
    "def reciepes(N):\n",
    "    a=[]\n",
    "    x=0\n",
    "    x0=7\n",
    "    while x<N:\n",
    "        x0=((1664525*x0)+1013904223)%(2**32)\n",
    "        x=x+1\n",
    "        a.append(float(x0)/(2**32))\n",
    "    return a\n",
    "\n",
    "gnr = reciepes(N)\n",
    "\n",
    "count, bins, ignored = plt.hist(gnr, 50, normed=True)\n",
    "plt.plot(bins, np.ones_like(bins), linewidth=2, color='r')\n",
    "plt.title(\"Numerical reciepes\")\n",
    "plt.show()"
   ]
  },
  {
   "cell_type": "markdown",
   "metadata": {},
   "source": [
    "# Borland C/C++"
   ]
  },
  {
   "cell_type": "code",
   "execution_count": 30,
   "metadata": {
    "collapsed": false
   },
   "outputs": [
    {
     "data": {
      "image/png": "[encoded data removed]",
      "text/plain": [
       "<matplotlib.figure.Figure at 0x79598d0>"
      ]
     },
     "metadata": {},
     "output_type": "display_data"
    }
   ],
   "source": [
    "def borland(N):\n",
    "    a=[]\n",
    "    x=0\n",
    "    x0=7\n",
    "    while x<N:\n",
    "        x0=((22695477*x0)+1)%(2**32)\n",
    "        x=x+1\n",
    "        a.append(float(x0)/(2**32))\n",
    "    return a\n",
    "\n",
    "gb = borland(N)\n",
    "\n",
    "count, bins, ignored = plt.hist(gb, 50, normed=True)\n",
    "plt.plot(bins, np.ones_like(bins), linewidth=2, color='r')\n",
    "plt.title(\"Borland C/C++\")\n",
    "plt.show()"
   ]
  },
  {
   "cell_type": "code",
   "execution_count": 20,
   "metadata": {
    "collapsed": false
   },
   "outputs": [
    {
     "name": "stdout",
     "output_type": "stream",
     "text": [
      "con n = 5000 datos\n",
      "('De = ', 0.25284392129697164)\n"
     ]
    },
    {
     "data": {
      "image/png": "[encoded data removed]",
      "text/plain": [
       "<matplotlib.figure.Figure at 0x787d048>"
      ]
     },
     "metadata": {},
     "output_type": "display_data"
    }
   ],
   "source": [
    "print \"con n = 5000 datos\"\n",
    "x1 = np.arange(float(1)/N,1+float(1)/N,float(1)/N)\n",
    "y1 = np.cumsum(np.sort(u)/np.max(np.cumsum(u)))\n",
    "\n",
    "x2 = np.sort(x)\n",
    "y2 = np.cumsum(np.sort(x)/np.max(np.cumsum(x)))\n",
    "\n",
    "De=np.absolute(y2-y1)\n",
    "#print(D)\n",
    "print(\"De = \",np.max(De))\n",
    "\n",
    "# Plotting\n",
    "plt.plot(x1,y1,label='Uniform')\n",
    "plt.step(x2,y2,label='Random')\n",
    "x3 = [x1[De.argmax()],x1[De.argmax()]]\n",
    "y3 = [np.min([y1[De.argmax()],y2[De.argmax()]]),np.max([y1[De.argmax()],y2[De.argmax()]])]\n",
    "plt.step(x3,y3,label='D')\n",
    "\n",
    "#plt.plot(x1,De,label='De')\n",
    "\n",
    "plt.legend()\n",
    "plt.xlabel('X')\n",
    "plt.ylabel('Cumulative Probability P(X)')\n",
    "plt.title('Numpy')\n",
    "#plt.xscale('log')\n",
    "#plt.yscale('log')\n",
    "\n",
    "#plt.xlim(0, np.max([np.max(whitney),np.max(redwell)])+0.05)\n",
    "plt.ylim(0, 1.05)\n",
    "\n",
    "plt.show()"
   ]
  },
  {
   "cell_type": "code",
   "execution_count": 23,
   "metadata": {
    "collapsed": false
   },
   "outputs": [
    {
     "name": "stdout",
     "output_type": "stream",
     "text": [
      "D =  0.252843921297\n",
      "p-value =  4.53269943825e-278\n"
     ]
    }
   ],
   "source": [
    "# scipy function for K-S test\n",
    "from scipy import stats\n",
    "D,pvalue = stats.kstest(y2, 'uniform')\n",
    "print \"D = \", D\n",
    "print \"p-value = \", pvalue"
   ]
  },
  {
   "cell_type": "code",
   "execution_count": 28,
   "metadata": {
    "collapsed": false
   },
   "outputs": [
    {
     "name": "stdout",
     "output_type": "stream",
     "text": [
      "('De = ', 0.25711097451000242)\n"
     ]
    },
    {
     "data": {
      "image/png": "[encoded data removed]",
      "text/plain": [
       "<matplotlib.figure.Figure at 0x6997080>"
      ]
     },
     "metadata": {},
     "output_type": "display_data"
    }
   ],
   "source": [
    "x1 = np.arange(float(1)/N,1+float(1)/N,float(1)/N)\n",
    "y1 = np.cumsum(np.sort(u)/np.max(np.cumsum(u)))\n",
    "\n",
    "x2 = np.sort(vg)\n",
    "y2 = np.cumsum(np.sort(vg)/np.max(np.cumsum(vg)))\n",
    "\n",
    "De=np.absolute(y2-y1)\n",
    "#print(D)\n",
    "print(\"De = \",np.max(De))\n",
    "\n",
    "# Plotting\n",
    "plt.plot(x1,y1,label='Uniform')\n",
    "plt.step(x2,y2,label='Random')\n",
    "x3 = [x1[De.argmax()],x1[De.argmax()]]\n",
    "y3 = [np.min([y1[De.argmax()],y2[De.argmax()]]),np.max([y1[De.argmax()],y2[De.argmax()]])]\n",
    "plt.step(x3,y3,label='D')\n",
    "\n",
    "#plt.plot(x1,De,label='De')\n",
    "\n",
    "plt.legend()\n",
    "plt.xlabel('X')\n",
    "plt.ylabel('Cumulative Probability P(X)')\n",
    "plt.title('generador de numeros aleatorios')\n",
    "#plt.xscale('log')\n",
    "#plt.yscale('log')\n",
    "\n",
    "#plt.xlim(0, np.max([np.max(whitney),np.max(redwell)])+0.05)\n",
    "plt.ylim(0, 1.05)\n",
    "\n",
    "plt.show()"
   ]
  },
  {
   "cell_type": "code",
   "execution_count": 29,
   "metadata": {
    "collapsed": false
   },
   "outputs": [
    {
     "name": "stdout",
     "output_type": "stream",
     "text": [
      "D =  0.25711097451\n",
      "p-value =  1.60726943315e-287\n"
     ]
    }
   ],
   "source": [
    "# scipy function for K-S test\n",
    "from scipy import stats\n",
    "D,pvalue = stats.kstest(y2, 'uniform')\n",
    "print\"D = \", D\n",
    "print\"p-value = \", pvalue\n"
   ]
  },
  {
   "cell_type": "code",
   "execution_count": 30,
   "metadata": {
    "collapsed": false
   },
   "outputs": [
    {
     "name": "stdout",
     "output_type": "stream",
     "text": [
      "('De = ', 0.24825611380063806)\n"
     ]
    },
    {
     "data": {
      "image/png": "[encoded data removed]",
      "text/plain": [
       "<matplotlib.figure.Figure at 0x76fb588>"
      ]
     },
     "metadata": {},
     "output_type": "display_data"
    }
   ],
   "source": [
    "x1 = np.arange(float(1)/N,1+float(1)/N,float(1)/N)\n",
    "y1 = np.cumsum(np.sort(u)/np.max(np.cumsum(u)))\n",
    "\n",
    "x2 = np.sort(gr)\n",
    "y2 = np.cumsum(np.sort(gr)/np.max(np.cumsum(gr)))\n",
    "\n",
    "De=np.absolute(y2-y1)\n",
    "#print(D)\n",
    "print(\"De = \",np.max(De))\n",
    "\n",
    "# Plotting\n",
    "plt.plot(x1,y1,label='Uniform')\n",
    "plt.step(x2,y2,label='Random')\n",
    "x3 = [x1[De.argmax()],x1[De.argmax()]]\n",
    "y3 = [np.min([y1[De.argmax()],y2[De.argmax()]]),np.max([y1[De.argmax()],y2[De.argmax()]])]\n",
    "plt.step(x3,y3,label='D')\n",
    "\n",
    "#plt.plot(x1,De,label='De')\n",
    "\n",
    "plt.legend()\n",
    "plt.xlabel('X')\n",
    "plt.ylabel('Cumulative Probability P(X)')\n",
    "plt.title('Randu')\n",
    "#plt.xscale('log')\n",
    "#plt.yscale('log')\n",
    "\n",
    "#plt.xlim(0, np.max([np.max(whitney),np.max(redwell)])+0.05)\n",
    "plt.ylim(0, 1.05)\n",
    "\n",
    "plt.show()"
   ]
  },
  {
   "cell_type": "code",
   "execution_count": 31,
   "metadata": {
    "collapsed": false
   },
   "outputs": [
    {
     "name": "stdout",
     "output_type": "stream",
     "text": [
      "D =  0.248256113801\n",
      "p-value =  4.37091211326e-268\n"
     ]
    }
   ],
   "source": [
    "# scipy function for K-S test\n",
    "from scipy import stats\n",
    "D,pvalue = stats.kstest(y2, 'uniform')\n",
    "print\"D = \", D\n",
    "print\"p-value = \", pvalue\n"
   ]
  },
  {
   "cell_type": "code",
   "execution_count": 42,
   "metadata": {
    "collapsed": false
   },
   "outputs": [
    {
     "name": "stdout",
     "output_type": "stream",
     "text": [
      "('De = ', 0.25287116733670156)\n"
     ]
    },
    {
     "data": {
      "image/png": "[encoded data removed]",
      "text/plain": [
       "<matplotlib.figure.Figure at 0x97039b0>"
      ]
     },
     "metadata": {},
     "output_type": "display_data"
    }
   ],
   "source": [
    "x1 = np.arange(float(1)/N,1+float(1)/N,float(1)/N)\n",
    "y1 = np.cumsum(np.sort(u)/np.max(np.cumsum(u)))\n",
    "\n",
    "x2 = np.sort(gs)\n",
    "y2 = np.cumsum(np.sort(gs)/np.max(np.cumsum(gs)))\n",
    "\n",
    "De=np.absolute(y2-y1)\n",
    "#print(D)\n",
    "print(\"De = \",np.max(De))\n",
    "\n",
    "# Plotting\n",
    "plt.plot(x1,y1,label='Uniform')\n",
    "plt.step(x2,y2,label='Random')\n",
    "x3 = [x1[De.argmax()],x1[De.argmax()]]\n",
    "y3 = [np.min([y1[De.argmax()],y2[De.argmax()]]),np.max([y1[De.argmax()],y2[De.argmax()]])]\n",
    "plt.step(x3,y3,label='D')\n",
    "\n",
    "#plt.plot(x1,De,label='De')\n",
    "\n",
    "plt.legend()\n",
    "plt.xlabel('X')\n",
    "plt.ylabel('Cumulative Probability P(X)')\n",
    "plt.title('Sinclair ')\n",
    "#plt.xscale('log')\n",
    "#plt.yscale('log')\n",
    "\n",
    "#plt.xlim(0, np.max([np.max(whitney),np.max(redwell)])+0.05)\n",
    "plt.ylim(0, 1.05)\n",
    "\n",
    "plt.show()"
   ]
  },
  {
   "cell_type": "code",
   "execution_count": 33,
   "metadata": {
    "collapsed": false
   },
   "outputs": [
    {
     "name": "stdout",
     "output_type": "stream",
     "text": [
      "D =  0.252871167337\n",
      "p-value =  3.94926833665e-278\n"
     ]
    }
   ],
   "source": [
    "# scipy function for K-S test\n",
    "from scipy import stats\n",
    "D,pvalue = stats.kstest(y2, 'uniform')\n",
    "print\"D = \", D\n",
    "print\"p-value = \", pvalue\n"
   ]
  },
  {
   "cell_type": "code",
   "execution_count": 43,
   "metadata": {
    "collapsed": false
   },
   "outputs": [
    {
     "name": "stdout",
     "output_type": "stream",
     "text": [
      "('De = ', 0.24731786106818243)\n"
     ]
    },
    {
     "data": {
      "image/png": "[encoded data removed]",
      "text/plain": [
       "<matplotlib.figure.Figure at 0x971e2b0>"
      ]
     },
     "metadata": {},
     "output_type": "display_data"
    }
   ],
   "source": [
    "x1 = np.arange(float(1)/N,1+float(1)/N,float(1)/N)\n",
    "y1 = np.cumsum(np.sort(u)/np.max(np.cumsum(u)))\n",
    "\n",
    "x2 = np.sort(gnr)\n",
    "y2 = np.cumsum(np.sort(gnr)/np.max(np.cumsum(gnr)))\n",
    "\n",
    "De=np.absolute(y2-y1)\n",
    "#print(D)\n",
    "print(\"De = \",np.max(De))\n",
    "\n",
    "# Plotting\n",
    "plt.plot(x1,y1,label='Uniform')\n",
    "plt.step(x2,y2,label='Random')\n",
    "x3 = [x1[De.argmax()],x1[De.argmax()]]\n",
    "y3 = [np.min([y1[De.argmax()],y2[De.argmax()]]),np.max([y1[De.argmax()],y2[De.argmax()]])]\n",
    "plt.step(x3,y3,label='D')\n",
    "\n",
    "#plt.plot(x1,De,label='De')\n",
    "\n",
    "plt.legend()\n",
    "plt.xlabel('X')\n",
    "plt.ylabel('Cumulative Probability P(X)')\n",
    "plt.title('Numerical reciepes')\n",
    "#plt.xscale('log')\n",
    "#plt.yscale('log')\n",
    "\n",
    "#plt.xlim(0, np.max([np.max(whitney),np.max(redwell)])+0.05)\n",
    "plt.ylim(0, 1.05)\n",
    "\n",
    "plt.show()"
   ]
  },
  {
   "cell_type": "code",
   "execution_count": 38,
   "metadata": {
    "collapsed": false
   },
   "outputs": [
    {
     "name": "stdout",
     "output_type": "stream",
     "text": [
      "D =  0.25711097451\n",
      "p-value =  1.60726943315e-287\n"
     ]
    }
   ],
   "source": [
    "# scipy function for K-S test\n",
    "from scipy import stats\n",
    "D,pvalue = stats.kstest(y2, 'uniform')\n",
    "print\"D = \", D\n",
    "print\"p-value = \", pvalue\n"
   ]
  },
  {
   "cell_type": "code",
   "execution_count": 44,
   "metadata": {
    "collapsed": false
   },
   "outputs": [
    {
     "name": "stdout",
     "output_type": "stream",
     "text": [
      "('De = ', 0.25711097451000242)\n"
     ]
    },
    {
     "data": {
      "image/png": "[encoded data removed]",
      "text/plain": [
       "<matplotlib.figure.Figure at 0x97122e8>"
      ]
     },
     "metadata": {},
     "output_type": "display_data"
    }
   ],
   "source": [
    "x1 = np.arange(float(1)/N,1+float(1)/N,float(1)/N)\n",
    "y1 = np.cumsum(np.sort(u)/np.max(np.cumsum(u)))\n",
    "\n",
    "x2 = np.sort(gb)\n",
    "y2 = np.cumsum(np.sort(gb)/np.max(np.cumsum(gb)))\n",
    "\n",
    "De=np.absolute(y2-y1)\n",
    "#print(D)\n",
    "print(\"De = \",np.max(De))\n",
    "\n",
    "# Plotting\n",
    "plt.plot(x1,y1,label='Uniform')\n",
    "plt.step(x2,y2,label='Random')\n",
    "x3 = [x1[De.argmax()],x1[De.argmax()]]\n",
    "y3 = [np.min([y1[De.argmax()],y2[De.argmax()]]),np.max([y1[De.argmax()],y2[De.argmax()]])]\n",
    "plt.step(x3,y3,label='D')\n",
    "\n",
    "#plt.plot(x1,De,label='De')\n",
    "\n",
    "plt.legend()\n",
    "plt.xlabel('X')\n",
    "plt.ylabel('Cumulative Probability P(X)')\n",
    "plt.title('Borland C/C++')\n",
    "#plt.xscale('log')\n",
    "#plt.yscale('log')\n",
    "\n",
    "#plt.xlim(0, np.max([np.max(whitney),np.max(redwell)])+0.05)\n",
    "plt.ylim(0, 1.05)\n",
    "\n",
    "plt.show()"
   ]
  },
  {
   "cell_type": "code",
   "execution_count": 40,
   "metadata": {
    "collapsed": false
   },
   "outputs": [
    {
     "name": "stdout",
     "output_type": "stream",
     "text": [
      "D =  0.25711097451\n",
      "p-value =  1.60726943315e-287\n"
     ]
    }
   ],
   "source": [
    "# scipy function for K-S test\n",
    "from scipy import stats\n",
    "D,pvalue = stats.kstest(y2, 'uniform')\n",
    "print\"D = \", D\n",
    "print\"p-value = \", pvalue\n"
   ]
  },
  {
   "cell_type": "code",
   "execution_count": null,
   "metadata": {
    "collapsed": true
   },
   "outputs": [],
   "source": []
  },
  {
   "cell_type": "markdown",
   "metadata": {},
   "source": [
    "### Contraste o prueba  $\\chi^{2}$\n",
    "\n",
    "La prueba $\\chi^{2}$ es de bondad de ajuste. Es poco potente, por lo que permite justificar el rechazo de una hipótesis, pero proporciona escaso soporte a su aceptación. El problema de bondad de ajuste se plantea como sigue. Tenemos una muestra $X_1, X_2,...,X_n$ de una población con distribución $F_X(x)$ desconocida. Deseamos contrastar la hipótesis nula $H_0:F_X(x)=F_0(x)$, para todo $x\\in\\mathbb{R}$, donde $F_0(x)$ está completamente especificada, frente a la alternativa $H_1:F_X(x) \\neq F_0(x)$ para algún $x$.\n",
    "Para realizar el contraste, partimos el soporte de $X$ en $k$ subconjuntos o clases mutuamente excluyentes. Para cada subconjunto $i$, $i=1,...,k$, calculamos el número $f_i$ de observaciones que caen en la clase y el numero esperado de observaciones $e_i$ bajo la distribución hipotética $F_0$. El estadístico de la prueba es:\n",
    "\n",
    "$$\\chi^{2}=\\overset{k}{\\underset{i=1}{\\sum}}\\frac{(f_{i}-e_{i})^{2}}{e_{i}}$$\n",
    "\n",
    "cuya distribución asintótica es una $\\chi_{k-r-1}^{2}$, donde $r$ es el número de parámetros que se estiman a partir de las observaciones. La aproximación se considera aceptada si $\\min\\left\\{ e_{i}>5\\right\\}$. Intuitivamente, el estadístico tiende a ser pequeño bajo la hipótesis nula, y grande cuando ésta es falsa, con lo qu ese deduce inmediatamente un contraste de hipótesis. La potencia del contraste crece con el número $k$ de subconjuntos considerados.\n",
    "\n",
    "En nuestro problema de aleatoriedad, $F_0$ es la función de distribución de la uniforme en [0,1], con lo que $r=0$. Además, pueden cogerse $k$ subintervalos de [0,1] de igual longitud, con lo que $e_i=n/k$.\n"
   ]
  },
  {
   "cell_type": "markdown",
   "metadata": {},
   "source": [
    "# Numpy"
   ]
  },
  {
   "cell_type": "code",
   "execution_count": 55,
   "metadata": {
    "collapsed": false
   },
   "outputs": [
    {
     "name": "stdout",
     "output_type": "stream",
     "text": [
      "de 0 a 1 dividido en 10 rangos\n",
      "[530, 518, 486, 492, 515, 511, 491, 526, 461, 470]\n",
      "er = 10.016\n"
     ]
    }
   ],
   "source": [
    "k=10\n",
    "c=1/float(10)\n",
    "ei=N/k\n",
    "cont=[]\n",
    "cont.append(c)\n",
    "for i in range(9):\n",
    "    cont.append(cont[i]+c)\n",
    "\n",
    "suma=[0,0,0,0,0,0,0,0,0,0]\n",
    "\n",
    "for i in range(N):\n",
    "    for j in range(10):\n",
    "        if x[i]<cont[j]:\n",
    "            suma[j]=suma[j]+1\n",
    "            break\n",
    "\n",
    "\n",
    "print \"de 0 a 1 dividido en 10 rangos\" \n",
    "print suma\n",
    "\n",
    "er = 0\n",
    "for i in range(k):\n",
    "    er = er+((suma[i]-ei)**2/float(ei))\n",
    "    \n",
    "print \"er = \"+str(er)"
   ]
  },
  {
   "cell_type": "code",
   "execution_count": null,
   "metadata": {
    "collapsed": true
   },
   "outputs": [],
   "source": []
  },
  {
   "cell_type": "markdown",
   "metadata": {},
   "source": [
    " "
   ]
  },
  {
   "cell_type": "markdown",
   "metadata": {},
   "source": [
    "# generador aleatorio"
   ]
  },
  {
   "cell_type": "code",
   "execution_count": 61,
   "metadata": {
    "collapsed": false
   },
   "outputs": [
    {
     "name": "stdout",
     "output_type": "stream",
     "text": [
      "de 0 a 1 dividido en 10 rangos\n",
      "[556, 512, 479, 521, 505, 451, 493, 470, 539, 474]\n",
      "er = 19.468\n"
     ]
    }
   ],
   "source": [
    "k=10\n",
    "c=1/float(10)\n",
    "ei=N/k\n",
    "cont=[]\n",
    "cont.append(c)\n",
    "for i in range(9):\n",
    "    cont.append(cont[i]+c)\n",
    "\n",
    "suma=[0,0,0,0,0,0,0,0,0,0]\n",
    "\n",
    "for i in range(N):\n",
    "    for j in range(10):\n",
    "        if vg[i]<cont[j]:\n",
    "            suma[j]=suma[j]+1\n",
    "            break\n",
    "\n",
    " \n",
    "print \"de 0 a 1 dividido en 10 rangos\"  \n",
    "print suma\n",
    "\n",
    "er=0\n",
    "for i in range(k):\n",
    "    er=er+((suma[i]-ei)**2/float(ei))\n",
    "    \n",
    "print \"er = \"+str(er)"
   ]
  },
  {
   "cell_type": "markdown",
   "metadata": {},
   "source": [
    "# RANDU"
   ]
  },
  {
   "cell_type": "code",
   "execution_count": 60,
   "metadata": {
    "collapsed": false
   },
   "outputs": [
    {
     "name": "stdout",
     "output_type": "stream",
     "text": [
      "de 0 a 1 dividido en 10 rangos\n",
      "[460, 539, 496, 491, 516, 510, 458, 530, 498, 502]\n",
      "er = 12.492\n"
     ]
    }
   ],
   "source": [
    "k=10\n",
    "c=1/float(10)\n",
    "ei=N/k\n",
    "cont=[]\n",
    "cont.append(c)\n",
    "for i in range(9):\n",
    "    cont.append(cont[i]+c)\n",
    "\n",
    "suma=[0,0,0,0,0,0,0,0,0,0]\n",
    "\n",
    "for i in range(N):\n",
    "    for j in range(10):\n",
    "        if gr[i]<cont[j]:\n",
    "            suma[j]=suma[j]+1\n",
    "            break\n",
    "\n",
    "\n",
    "print \"de 0 a 1 dividido en 10 rangos\" \n",
    "print suma\n",
    "\n",
    "er=0\n",
    "for i in range(k):\n",
    "    er=er+((suma[i]-ei)**2/float(ei))\n",
    "    \n",
    "print \"er = \"+str(er)"
   ]
  },
  {
   "cell_type": "markdown",
   "metadata": {},
   "source": [
    "# Sinclair "
   ]
  },
  {
   "cell_type": "code",
   "execution_count": 59,
   "metadata": {
    "collapsed": false
   },
   "outputs": [
    {
     "name": "stdout",
     "output_type": "stream",
     "text": [
      "de 0 a 1 dividido en 10 rangos\n",
      "[516, 493, 520, 496, 490, 492, 512, 490, 478, 513]\n",
      "er = 3.564\n"
     ]
    }
   ],
   "source": [
    "k=10\n",
    "c=1/float(10)\n",
    "ei=N/k\n",
    "cont=[]\n",
    "cont.append(c)\n",
    "for i in range(9):\n",
    "    cont.append(cont[i]+c)\n",
    "\n",
    "suma=[0,0,0,0,0,0,0,0,0,0]\n",
    "\n",
    "for i in range(N):\n",
    "    for j in range(10):\n",
    "        if gs[i]<cont[j]:\n",
    "            suma[j]=suma[j]+1\n",
    "            break\n",
    "\n",
    "\n",
    "print \"de 0 a 1 dividido en 10 rangos\" \n",
    "print suma\n",
    "\n",
    "er=0\n",
    "for i in range(k):\n",
    "    er=er+((suma[i]-ei)**2/float(ei))\n",
    "    \n",
    "print \"er = \"+str(er)"
   ]
  },
  {
   "cell_type": "markdown",
   "metadata": {},
   "source": [
    "# Numerical reciepes"
   ]
  },
  {
   "cell_type": "code",
   "execution_count": 62,
   "metadata": {
    "collapsed": false
   },
   "outputs": [
    {
     "name": "stdout",
     "output_type": "stream",
     "text": [
      "de 0 a 1 dividido en 10 rangos\n",
      "[474, 508, 493, 500, 505, 492, 518, 494, 511, 505]\n",
      "er = 2.768\n"
     ]
    }
   ],
   "source": [
    "k=10\n",
    "c=1/float(10)\n",
    "ei=N/k\n",
    "cont=[]\n",
    "cont.append(c)\n",
    "for i in range(9):\n",
    "    cont.append(cont[i]+c)\n",
    "\n",
    "suma=[0,0,0,0,0,0,0,0,0,0]\n",
    "\n",
    "for i in range(N):\n",
    "    for j in range(10):\n",
    "        if gnr[i]<cont[j]:\n",
    "            suma[j]=suma[j]+1\n",
    "            break\n",
    "\n",
    "\n",
    "print \"de 0 a 1 dividido en 10 rangos\" \n",
    "print suma\n",
    "\n",
    "er=0\n",
    "for i in range(k):\n",
    "    er=er+((suma[i]-ei)**2/float(ei))\n",
    "    \n",
    "print \"er = \"+str(er)"
   ]
  },
  {
   "cell_type": "markdown",
   "metadata": {},
   "source": [
    "# Borland C/C++"
   ]
  },
  {
   "cell_type": "code",
   "execution_count": 63,
   "metadata": {
    "collapsed": false
   },
   "outputs": [
    {
     "name": "stdout",
     "output_type": "stream",
     "text": [
      "de 0 a 1 dividido en 10 rangos\n",
      "[556, 512, 479, 521, 505, 451, 493, 470, 539, 474]\n",
      "er = 19.468\n"
     ]
    }
   ],
   "source": [
    "k=10\n",
    "c=1/float(10)\n",
    "ei=N/k\n",
    "cont=[]\n",
    "cont.append(c)\n",
    "for i in range(9):\n",
    "    cont.append(cont[i]+c)\n",
    "\n",
    "suma=[0,0,0,0,0,0,0,0,0,0]\n",
    "\n",
    "for i in range(N):\n",
    "    for j in range(10):\n",
    "        if gb[i]<cont[j]:\n",
    "            suma[j]=suma[j]+1\n",
    "            break\n",
    "\n",
    "\n",
    "print \"de 0 a 1 dividido en 10 rangos\" \n",
    "print suma\n",
    "\n",
    "er=0\n",
    "for i in range(k):\n",
    "    er=er+((suma[i]-ei)**2/float(ei))\n",
    "    \n",
    "print \"er = \"+str(er)"
   ]
  },
  {
   "cell_type": "markdown",
   "metadata": {
    "collapsed": true
   },
   "source": [
    "### Constraste o prueba de rachas\n",
    "\n",
    "Dada la sucesión de observaciones $X_1, X_2,...,X_n$, construimos la sucesión de simbolos binarios definida mediante 1 si $X_i<X_{i+1}$, 0 si $X_i>X_{i+1}$. Definimos  racha creciente (decreciente) de longitud $l$ a un grupo seguido de $l$ números 1 (ó 0). Contabilizamos el número de rachas. Sabemos que su distribución asintótica, bajo la hipótesis nula de aleatoriedad, es:\n",
    "\n",
    "$$N\\left(\\frac{2n-1}{3},\\frac{16n-29}{90}\\right)$$\n",
    "\n",
    "Intuitivamente, rechazamos la aleatoriedad con un número muy pequeño o muy grande de rachas. De ahí se obtiene inmediatamente la prueba.\n",
    "\n",
    "###Contraste de rachas por encima y por debajo de la mediana\n",
    "\n",
    "Otro procedimiento para definir rachas se tiene del recuento de observaciones que se sitúan a un mismo lado de la mediana. La distribución asintótica del número de rachas, bajo la hipótesis de aleatoriedad, es:\n",
    "\n",
    "$$N\\left(1+\\frac{n}{2},\\frac{n}{2}\\right)$$\n",
    "\n",
    "de donde se sigue, inmediatamente una prueba."
   ]
  },
  {
   "cell_type": "markdown",
   "metadata": {},
   "source": [
    "###Contraste o prueba de permutaciones\n",
    "\n",
    "Separamos las observaciones en $k$-uplas:\n",
    "\n",
    "$$(U_1,U_2,...,U_k),...,(U_{ik+1},U_{ik+2},...,U_{(i+1)k}),...$$\n",
    "\n",
    "La $k$-upla general se escribe:\n",
    "\n",
    "$$(U_{ik+j})_{j=1}^k$$\n",
    "\n",
    "La ordenamos crecientemente y consideramos la ordenación correspondiente de los subíndices $j$. Bajo la hipótesis de que la probabilidad de que dos números sean iguales es nula, hay $k!$ ordenaciones posibles. Bajo la hipótesis de independencia, todas las permutaciones son equiprobables, con probabilidad $1/k!$. Entonces es inmediato aplicar una prueba $\\chi^2$ con $k!$ clases, distribución asintótica $\\chi_{k!-1}^2$, frecuencias esperadas $r/k!$, onde $r$ es el número de $k$-uplas y frecuencias observadas el número de veces que aparece cada ordenación."
   ]
  },
  {
   "cell_type": "code",
   "execution_count": 52,
   "metadata": {
    "collapsed": true
   },
   "outputs": [],
   "source": [
    "def rachas(lista_aleatoria):\n",
    "   \n",
    "    r = [\" \"]           \n",
    "      \n",
    "    for i in range(1, len(lista_aleatoria)):\n",
    "        r.append(0)\n",
    "          \n",
    "    for i in range(0, len(lista_aleatoria)-1):\n",
    "        \n",
    "        if lista_aleatoria[i+1] > lista_aleatoria[i]:\n",
    "            \n",
    "            r[i+1] = 1\n",
    "            \n",
    "        else:\n",
    "            pass\n",
    "    \n",
    "    nr = 0\n",
    "    print (r[0])\n",
    "    \n",
    "    for i in range(1, len(r)-1):\n",
    "        if r[i+1] != r[i]:\n",
    "            nr = nr+1\n",
    "        else:\n",
    "            pass\n",
    "            \n",
    "    nr = nr+1\n",
    "    print \"test de rachas con 5000 datos\"\n",
    "    print \"numero de rachas de la lista = \" + str(nr)\n",
    "    n = len(lista_aleatoria)\n",
    "    z = (nr - ((2*n - 1)/float(3))) / (math.sqrt((16*n-29)/float(90)))\n",
    "    \n",
    "    return \"Z = \" + str(z)"
   ]
  },
  {
   "cell_type": "markdown",
   "metadata": {},
   "source": [
    "# Numpy"
   ]
  },
  {
   "cell_type": "code",
   "execution_count": 53,
   "metadata": {
    "collapsed": false
   },
   "outputs": [
    {
     "name": "stdout",
     "output_type": "stream",
     "text": [
      " \n",
      "test de rachas con 5000 datos\n",
      "numero de rachas de la lista = 3342\n"
     ]
    },
    {
     "data": {
      "text/plain": [
       "'Z = 0.301923905631'"
      ]
     },
     "execution_count": 53,
     "metadata": {},
     "output_type": "execute_result"
    }
   ],
   "source": [
    "rachas(x)"
   ]
  },
  {
   "cell_type": "markdown",
   "metadata": {},
   "source": [
    "# generador de numeros aleatorios"
   ]
  },
  {
   "cell_type": "code",
   "execution_count": 54,
   "metadata": {
    "collapsed": false
   },
   "outputs": [
    {
     "name": "stdout",
     "output_type": "stream",
     "text": [
      " \n",
      "test de rachas con 5000 datos\n",
      "numero de rachas de la lista = 3287\n"
     ]
    },
    {
     "data": {
      "text/plain": [
       "'Z = -1.54316662878'"
      ]
     },
     "execution_count": 54,
     "metadata": {},
     "output_type": "execute_result"
    }
   ],
   "source": [
    "rachas(vg)"
   ]
  },
  {
   "cell_type": "markdown",
   "metadata": {},
   "source": [
    "# RANDU "
   ]
  },
  {
   "cell_type": "code",
   "execution_count": 55,
   "metadata": {
    "collapsed": false
   },
   "outputs": [
    {
     "name": "stdout",
     "output_type": "stream",
     "text": [
      " \n",
      "test de rachas con 5000 datos\n",
      "numero de rachas de la lista = 3327\n"
     ]
    },
    {
     "data": {
      "text/plain": [
       "'Z = -0.201282603754'"
      ]
     },
     "execution_count": 55,
     "metadata": {},
     "output_type": "execute_result"
    }
   ],
   "source": [
    "rachas(gr)"
   ]
  },
  {
   "cell_type": "markdown",
   "metadata": {},
   "source": [
    "# Sinclair"
   ]
  },
  {
   "cell_type": "code",
   "execution_count": 56,
   "metadata": {
    "collapsed": false
   },
   "outputs": [
    {
     "name": "stdout",
     "output_type": "stream",
     "text": [
      " \n",
      "test de rachas con 5000 datos\n",
      "numero de rachas de la lista = 3298\n"
     ]
    },
    {
     "data": {
      "text/plain": [
       "'Z = -1.1741485219'"
      ]
     },
     "execution_count": 56,
     "metadata": {},
     "output_type": "execute_result"
    }
   ],
   "source": [
    "rachas(gs)"
   ]
  },
  {
   "cell_type": "markdown",
   "metadata": {},
   "source": [
    "# Numerical reciepes"
   ]
  },
  {
   "cell_type": "code",
   "execution_count": 57,
   "metadata": {
    "collapsed": false
   },
   "outputs": [
    {
     "name": "stdout",
     "output_type": "stream",
     "text": [
      " \n",
      "test de rachas con 5000 datos\n",
      "numero de rachas de la lista = 3317\n"
     ]
    },
    {
     "data": {
      "text/plain": [
       "'Z = -0.53675361001'"
      ]
     },
     "execution_count": 57,
     "metadata": {},
     "output_type": "execute_result"
    }
   ],
   "source": [
    "rachas(gnr)"
   ]
  },
  {
   "cell_type": "markdown",
   "metadata": {},
   "source": [
    "# Borland C/C++ "
   ]
  },
  {
   "cell_type": "code",
   "execution_count": 58,
   "metadata": {
    "collapsed": false
   },
   "outputs": [
    {
     "name": "stdout",
     "output_type": "stream",
     "text": [
      " \n",
      "test de rachas con 5000 datos\n",
      "numero de rachas de la lista = 3356\n"
     ]
    },
    {
     "data": {
      "text/plain": [
       "'Z = 0.771583314389'"
      ]
     },
     "execution_count": 58,
     "metadata": {},
     "output_type": "execute_result"
    }
   ],
   "source": [
    "rachas(gb)"
   ]
  },
  {
   "cell_type": "code",
   "execution_count": null,
   "metadata": {
    "collapsed": true
   },
   "outputs": [],
   "source": []
  }
 ],
 "metadata": {
  "kernelspec": {
   "display_name": "Python 2",
   "language": "python",
   "name": "python2"
  },
  "language_info": {
   "codemirror_mode": {
    "name": "ipython",
    "version": 2
   },
   "file_extension": ".py",
   "mimetype": "text/x-python",
   "name": "python",
   "nbconvert_exporter": "python",
   "pygments_lexer": "ipython2",
   "version": "2.7.11"
  }
 },
 "nbformat": 4,
 "nbformat_minor": 0
}
