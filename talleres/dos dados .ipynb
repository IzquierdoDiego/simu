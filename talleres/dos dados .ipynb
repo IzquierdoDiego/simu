{
 "cells": [
  {
   "cell_type": "code",
   "execution_count": 13,
   "metadata": {
    "collapsed": false
   },
   "outputs": [
    {
     "name": "stdout",
     "output_type": "stream",
     "text": [
      "numero de varialbles a generar5000\n",
      "0\n"
     ]
    }
   ],
   "source": [
    "import numpy as np\n",
    "\n",
    "def variable(na,arreglov,probabilidad):\n",
    "    \n",
    "    x0 = 97\n",
    "    a = 5234   \n",
    "    m = 65539\n",
    "    c = 0\n",
    "   \n",
    "    while c<na:   #### p1\n",
    "\n",
    "        xf = ((a*x0))%m                 \n",
    "        u = float(xf)/m\n",
    "        ##print u\n",
    "        vector = [0]\n",
    "\n",
    "        for y  in range(len(probabilidad)):\n",
    "            vector.append(probabilidad[y]+vector[y])\n",
    "                      \n",
    "        for r in range(len(probabilidad)):\n",
    "            if vector[r] < u < vector[r+1]:\n",
    "                variable_para_graficar.append(arreglov[r])    ## p2\n",
    "                ##print variable_para_graficar\n",
    "            else:\n",
    "                pass\n",
    "        p = 0\n",
    "        nv = 0\n",
    "        \n",
    "        for i in arreglov:\n",
    "            cv = variable_para_graficar.count(i)\n",
    "            if cv > p:\n",
    "                p = cv\n",
    "                nv = i\n",
    "            else:\n",
    "                pass\n",
    "\n",
    "        c = c+1\n",
    "        x0 = xf\n",
    "        \n",
    "    return variable_para_graficar , i\n",
    "\n",
    "\n",
    "def graficar(variable_para_graficar):\n",
    "    p=variable_para_graficar[0];\n",
    "    q=0;\n",
    "    \n",
    "    ##ordena el arreglo (no se sabe si es funcional este metodo ARREGLAR)\n",
    "    for i in range(len(variable_para_graficar)):\n",
    "         if(p<variable_para_graficar[i]):\n",
    "                q=variable_para_graficar[i];\n",
    "                variable_para_graficar[i]=p;\n",
    "                p=q;\n",
    "                i=0;\n",
    "    \n",
    "    k=variable_para_graficar[0];\n",
    "    nv=0;\n",
    "    nf=0;\n",
    "    ng=variable_para_graficar[0];\n",
    "    for i in range(len(variable_para_graficar)):\n",
    "        if(k==variable_para_graficar[i]):\n",
    "            nv= nv+1\n",
    "        elif(k!=variable_para_graficar[i]):\n",
    "            k=variable_para_graficar[i];\n",
    "            if(nf<nv):\n",
    "                nf=nv;\n",
    "                nv=0;\n",
    "                ng=variable_para_graficar[i];\n",
    "            else:\n",
    "                nv=0;\n",
    "\n",
    "    return ng;\n",
    "\n",
    "variable_para_graficar = []\n",
    "na = input(\"numero de varialbles a generar\")\n",
    "variable(na,[2,3,4,5,6,7,8,9,10,11,12,13,14,15,16,17,18,19,20,21],[0.01,0.02,0.03,0.04,0.05,0.06,0.07,0.08,0.08,0.08,0.08,0.08,0.08,0.07,0.06,0.05,0.04,0.03,0.02,0.01 ])\n",
    "##ng = 0\n",
    "graficar(variable_para_graficar)\n",
    "from matplotlib.pylab import hist, show\n",
    "hist(variable_para_graficar,22, (0,22))    ## p3\n",
    "show()\n",
    "\n",
    "print ng"
   ]
  },
  {
   "cell_type": "code",
   "execution_count": null,
   "metadata": {
    "collapsed": true
   },
   "outputs": [],
   "source": []
  },
  {
   "cell_type": "code",
   "execution_count": null,
   "metadata": {
    "collapsed": true
   },
   "outputs": [],
   "source": []
  },
  {
   "cell_type": "code",
   "execution_count": null,
   "metadata": {
    "collapsed": true
   },
   "outputs": [],
   "source": []
  },
  {
   "cell_type": "code",
   "execution_count": null,
   "metadata": {
    "collapsed": true
   },
   "outputs": [],
   "source": []
  }
 ],
 "metadata": {
  "kernelspec": {
   "display_name": "Python 2",
   "language": "python",
   "name": "python2"
  },
  "language_info": {
   "codemirror_mode": {
    "name": "ipython",
    "version": 2
   },
   "file_extension": ".py",
   "mimetype": "text/x-python",
   "name": "python",
   "nbconvert_exporter": "python",
   "pygments_lexer": "ipython2",
   "version": "2.7.11"
  }
 },
 "nbformat": 4,
 "nbformat_minor": 0
}
