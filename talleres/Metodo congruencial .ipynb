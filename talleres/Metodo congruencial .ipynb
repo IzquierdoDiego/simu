{
 "cells": [
  {
   "cell_type": "markdown",
   "metadata": {},
   "source": [
    "# Metodo congruencial"
   ]
  },
  {
   "cell_type": "markdown",
   "metadata": {},
   "source": [
    "Los principales generadores de numeros pseudo-aleatorios utilizados hoy en dıa son los llamados generadores congruenciales lineales, introducidos por Lehmer en 1951. Un metodo congruencial comienza con un valor inicial (semilla) $x_0$, y los sucesivos valores $x_n$, n ≥ 1 se obtienen recursivamente con la siguiente formula: \n",
    " \n",
    " $$x_n = a(x_n-1)+b (modulo m)$$\n",
    " \n",
    "donde a, m y b son enteros positivos que se denominan, respectivamente, el multiplicador, el m´odulo y el incremento. Si b = 0, el generador se denomina multiplicativo; en caso contrario se llama mixto. La sucesi´on de n´umeros pseudo-aleatorios un, n ≥ 1 se obtiene haciendo $u_i=\\frac{x_i}{m}$\n",
    "\n",
    "\n",
    "\n",
    "\n",
    "\n",
    "\n",
    "\n",
    "\n"
   ]
  },
  {
   "cell_type": "code",
   "execution_count": 1,
   "metadata": {
    "collapsed": false
   },
   "outputs": [
    {
     "name": "stdout",
     "output_type": "stream",
     "text": [
      "Ingrese la cantidad de numeros que desea generar: 100\n",
      "Ingrese la semilla: 9\n",
      "Ingrese el multiplicador: 139\n",
      "Ingrese el incremento: 17\n",
      "Ingrese el modulo: 271\n",
      "0  numero aleatorio = 0.678966789668\n",
      "1  numero aleatorio = 0.439114391144\n",
      "2  numero aleatorio = 0.09963099631\n",
      "3  numero aleatorio = 0.911439114391\n",
      "4  numero aleatorio = 0.752767527675\n",
      "5  numero aleatorio = 0.69741697417\n",
      "6  numero aleatorio = 0.00369003690037\n",
      "7  numero aleatorio = 0.575645756458\n",
      "8  numero aleatorio = 0.0774907749077\n",
      "9  numero aleatorio = 0.833948339483\n",
      "10  numero aleatorio = 0.981549815498\n",
      "11  numero aleatorio = 0.49815498155\n",
      "12  numero aleatorio = 0.306273062731\n",
      "13  numero aleatorio = 0.634686346863\n",
      "14  numero aleatorio = 0.284132841328\n",
      "15  numero aleatorio = 0.557195571956\n",
      "16  numero aleatorio = 0.512915129151\n",
      "17  numero aleatorio = 0.357933579336\n",
      "18  numero aleatorio = 0.815498154982\n",
      "19  numero aleatorio = 0.416974169742\n",
      "20  numero aleatorio = 0.0221402214022\n",
      "21  numero aleatorio = 0.140221402214\n",
      "22  numero aleatorio = 0.553505535055\n",
      "23  numero aleatorio = 0.0\n",
      "24  numero aleatorio = 0.0627306273063\n",
      "25  numero aleatorio = 0.782287822878\n",
      "26  numero aleatorio = 0.80073800738\n",
      "27  numero aleatorio = 0.365313653137\n",
      "28  numero aleatorio = 0.841328413284\n",
      "29  numero aleatorio = 0.00738007380074\n",
      "30  numero aleatorio = 0.0885608856089\n",
      "31  numero aleatorio = 0.372693726937\n",
      "32  numero aleatorio = 0.867158671587\n",
      "33  numero aleatorio = 0.59778597786\n",
      "34  numero aleatorio = 0.154981549815\n",
      "35  numero aleatorio = 0.605166051661\n",
      "36  numero aleatorio = 0.180811808118\n",
      "37  numero aleatorio = 0.19557195572\n",
      "38  numero aleatorio = 0.247232472325\n",
      "39  numero aleatorio = 0.428044280443\n",
      "40  numero aleatorio = 0.560885608856\n",
      "41  numero aleatorio = 0.0258302583026\n",
      "42  numero aleatorio = 0.653136531365\n",
      "43  numero aleatorio = 0.848708487085\n",
      "44  numero aleatorio = 0.0332103321033\n",
      "45  numero aleatorio = 0.678966789668\n",
      "46  numero aleatorio = 0.439114391144\n",
      "47  numero aleatorio = 0.09963099631\n",
      "48  numero aleatorio = 0.911439114391\n",
      "49  numero aleatorio = 0.752767527675\n",
      "50  numero aleatorio = 0.69741697417\n",
      "51  numero aleatorio = 0.00369003690037\n",
      "52  numero aleatorio = 0.575645756458\n",
      "53  numero aleatorio = 0.0774907749077\n",
      "54  numero aleatorio = 0.833948339483\n",
      "55  numero aleatorio = 0.981549815498\n",
      "56  numero aleatorio = 0.49815498155\n",
      "57  numero aleatorio = 0.306273062731\n",
      "58  numero aleatorio = 0.634686346863\n",
      "59  numero aleatorio = 0.284132841328\n",
      "60  numero aleatorio = 0.557195571956\n",
      "61  numero aleatorio = 0.512915129151\n",
      "62  numero aleatorio = 0.357933579336\n",
      "63  numero aleatorio = 0.815498154982\n",
      "64  numero aleatorio = 0.416974169742\n",
      "65  numero aleatorio = 0.0221402214022\n",
      "66  numero aleatorio = 0.140221402214\n",
      "67  numero aleatorio = 0.553505535055\n",
      "68  numero aleatorio = 0.0\n",
      "69  numero aleatorio = 0.0627306273063\n",
      "70  numero aleatorio = 0.782287822878\n",
      "71  numero aleatorio = 0.80073800738\n",
      "72  numero aleatorio = 0.365313653137\n",
      "73  numero aleatorio = 0.841328413284\n",
      "74  numero aleatorio = 0.00738007380074\n",
      "75  numero aleatorio = 0.0885608856089\n",
      "76  numero aleatorio = 0.372693726937\n",
      "77  numero aleatorio = 0.867158671587\n",
      "78  numero aleatorio = 0.59778597786\n",
      "79  numero aleatorio = 0.154981549815\n",
      "80  numero aleatorio = 0.605166051661\n",
      "81  numero aleatorio = 0.180811808118\n",
      "82  numero aleatorio = 0.19557195572\n",
      "83  numero aleatorio = 0.247232472325\n",
      "84  numero aleatorio = 0.428044280443\n",
      "85  numero aleatorio = 0.560885608856\n",
      "86  numero aleatorio = 0.0258302583026\n",
      "87  numero aleatorio = 0.653136531365\n",
      "88  numero aleatorio = 0.848708487085\n",
      "89  numero aleatorio = 0.0332103321033\n",
      "90  numero aleatorio = 0.678966789668\n",
      "91  numero aleatorio = 0.439114391144\n",
      "92  numero aleatorio = 0.09963099631\n",
      "93  numero aleatorio = 0.911439114391\n",
      "94  numero aleatorio = 0.752767527675\n",
      "95  numero aleatorio = 0.69741697417\n",
      "96  numero aleatorio = 0.00369003690037\n",
      "97  numero aleatorio = 0.575645756458\n",
      "98  numero aleatorio = 0.0774907749077\n",
      "99  numero aleatorio = 0.833948339483\n"
     ]
    }
   ],
   "source": [
    "na = input(\"Ingrese la cantidad de numeros que desea generar: \")\n",
    "x0 = input(\"Ingrese la semilla: \")\n",
    "a = input(\"Ingrese el multiplicador: \")\n",
    "b = input(\"Ingrese el incremento: \")\n",
    "m = input(\"Ingrese el modulo: \")\n",
    "c = 0\n",
    "\n",
    "while c<na:   \n",
    "    \n",
    "    xf=((a*x0)+b)%m    \n",
    "    print str(c)+\"  numero aleatorio = \"+str(float(xf)/m)\n",
    "    c=c+1\n",
    "    x0 = xf"
   ]
  },
  {
   "cell_type": "code",
   "execution_count": null,
   "metadata": {
    "collapsed": true
   },
   "outputs": [],
   "source": []
  },
  {
   "cell_type": "code",
   "execution_count": null,
   "metadata": {
    "collapsed": true
   },
   "outputs": [],
   "source": []
  },
  {
   "cell_type": "code",
   "execution_count": 10,
   "metadata": {
    "collapsed": false
   },
   "outputs": [
    {
     "name": "stdout",
     "output_type": "stream",
     "text": [
      "The Zen of Python, by Tim Peters\n",
      "\n",
      "Beautiful is better than ugly.\n",
      "Explicit is better than implicit.\n",
      "Simple is better than complex.\n",
      "Complex is better than complicated.\n",
      "Flat is better than nested.\n",
      "Sparse is better than dense.\n",
      "Readability counts.\n",
      "Special cases aren't special enough to break the rules.\n",
      "Although practicality beats purity.\n",
      "Errors should never pass silently.\n",
      "Unless explicitly silenced.\n",
      "In the face of ambiguity, refuse the temptation to guess.\n",
      "There should be one-- and preferably only one --obvious way to do it.\n",
      "Although that way may not be obvious at first unless you're Dutch.\n",
      "Now is better than never.\n",
      "Although never is often better than *right* now.\n",
      "If the implementation is hard to explain, it's a bad idea.\n",
      "If the implementation is easy to explain, it may be a good idea.\n",
      "Namespaces are one honking great idea -- let's do more of those!\n"
     ]
    }
   ],
   "source": [
    "import this"
   ]
  },
  {
   "cell_type": "code",
   "execution_count": null,
   "metadata": {
    "collapsed": true
   },
   "outputs": [],
   "source": []
  }
 ],
 "metadata": {
  "kernelspec": {
   "display_name": "Python 2",
   "language": "python",
   "name": "python2"
  },
  "language_info": {
   "codemirror_mode": {
    "name": "ipython",
    "version": 2
   },
   "file_extension": ".py",
   "mimetype": "text/x-python",
   "name": "python",
   "nbconvert_exporter": "python",
   "pygments_lexer": "ipython2",
   "version": "2.7.11"
  }
 },
 "nbformat": 4,
 "nbformat_minor": 0
}
