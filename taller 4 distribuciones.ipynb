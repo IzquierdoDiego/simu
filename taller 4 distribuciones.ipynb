{
 "cells": [
  {
   "cell_type": "markdown",
   "metadata": {},
   "source": [
    "#   Distribuciones discretas de probabilidad "
   ]
  },
  {
   "cell_type": "raw",
   "metadata": {},
   "source": []
  },
  {
   "cell_type": "markdown",
   "metadata": {},
   "source": [
    "# Distribución binomial"
   ]
  },
  {
   "cell_type": "markdown",
   "metadata": {},
   "source": [
    "En estadística, la distribución binomial es una distribución de probabilidad discreta que cuenta el número de éxitos en una secuencia de n ensayos de Bernoulli independientes entre sí, con una probabilidad fija p de ocurrencia del éxito entre los ensayos. Un experimento de Bernoulli se caracteriza por ser dicotómico, esto es, sólo son posibles dos resultados. A uno de estos se denomina éxito y tiene una probabilidad de ocurrencia p y al otro, fracaso, con una probabilidad q = 1 - p. En la distribución binomial el anterior experimento se repite n veces, de forma independiente, y se trata de calcular la probabilidad de un determinado número de éxitos. Para n = 1, la binomial se convierte, de hecho, en una distribución de Bernoulli.\n",
    "\n",
    "Para representar que una variable aleatoria X sigue una distribución binomial de parámetros n y p, se escribe:\n",
    "\n",
    "    X ~ B(n,p)\n",
    "\n",
    "La distribución binomial es la base del test binomial de significación estadística.\n",
    "\n",
    "Funcon de probabilidad o Función de masa de probabilidad:\n",
    "\n",
    "$$F(x)=\\frac{n!}{x!(n-x)!}p^x(1-p)^{n-x}$$\n",
    "\n",
    "<img src=\"imagenes/bin.png\" width=\"30%\" height=\"30%\" >"
   ]
  },
  {
   "cell_type": "code",
   "execution_count": 18,
   "metadata": {
    "collapsed": false
   },
   "outputs": [
    {
     "name": "stdout",
     "output_type": "stream",
     "text": [
      "ingrese n para graficar: 20\n",
      "ingrese probabilidad para graficar: 0.43\n",
      "x probables segun la probabiidad arrojada por el generador \n",
      "[8, 5, 10, 7, 11, 9, 9, 5, 7, 8, 8, 10, 10, 8, 9, 6, 8, 7, 9, 11]\n"
     ]
    },
    {
     "data": {
      "image/png": "[encoded data removed]",
      "text/plain": [
       "<matplotlib.figure.Figure at 0x7f1a7b8>"
      ]
     },
     "metadata": {},
     "output_type": "display_data"
    }
   ],
   "source": [
    "import numpy as np\n",
    "import scipy as sp\n",
    "import matplotlib.pyplot as plt\n",
    "import math\n",
    "from scipy.integrate import quad\n",
    "\n",
    "n = input(\"ingrese n para graficar: \")\n",
    "p = input(\"ingrese probabilidad para graficar: \")\n",
    "\n",
    "\n",
    "\n",
    "def fun_pro_binomial(n,p):  ###funcion de probabilidad \n",
    "    y=[]\n",
    "    for x in range(n):\n",
    "        y.append((math.factorial(n)/(math.factorial(x)*math.factorial(n-x)))*(p**x)*(1-p)**(n-x))\n",
    "    return y\n",
    "\n",
    "def fun_pro_acum(): ### creo el arreglo con la probabilidad acumulada\n",
    "    vg = []\n",
    "    vg.append(funp[0])\n",
    "    for i in range(n-1):\n",
    "        vg.append(funp[i+1]+vg[i])\n",
    "    return vg\n",
    "\n",
    "def congruencial(N):\n",
    "    \n",
    "    U = []\n",
    "    on = 0\n",
    "    x0 = 14\n",
    "    while on<N:\n",
    "        \n",
    "        x0 = ((787*x0)+535)%26353\n",
    "        on = on+1\n",
    "        U.append(float(x0)/26353)\n",
    "        \n",
    "    return U\n",
    "\n",
    "def prob_de_x(n):  ## de los numeros aleatorios de el generador saco los posibles x en n\n",
    "    \n",
    "    p2 = []\n",
    "    p2 = congruencial(n)\n",
    "    listax = []\n",
    "    for i in range(n):\n",
    "        \n",
    "        for j in range(len(funa)):\n",
    "            \n",
    "            if p2[i]<funa[j]:\n",
    "                listax.append(j)\n",
    "                break\n",
    "                \n",
    "    return listax      \n",
    "\n",
    "funp = fun_pro_binomial(n,p)\n",
    "\n",
    "plt.title(\"funcion de probabilidad\")\n",
    "plt.plot(funp, marker='x', linestyle=':')\n",
    "\n",
    "funa = fun_pro_acum()\n",
    "\n",
    "prob_x = prob_de_x(n)\n",
    "\n",
    "print \"x probables segun la probabiidad arrojada por el generador \"\n",
    "print prob_x\n"
   ]
  },
  {
   "cell_type": "raw",
   "metadata": {},
   "source": []
  },
  {
   "cell_type": "markdown",
   "metadata": {},
   "source": [
    "# Distribución uniforme"
   ]
  },
  {
   "cell_type": "markdown",
   "metadata": {},
   "source": [
    "En teoría de la probabilidad, la distribución uniforme discreta es una distribución de probabilidad que asume un número finito de valores con la misma probabilidad.\n",
    "\n",
    "funcion de probabilidad: \n",
    "                $$F(x)=\\frac{1}{n}$$\n",
    "                \n",
    "<img src=\"imagenes/uni.png\" width=\"30%\" height=\"30%\" >"
   ]
  },
  {
   "cell_type": "code",
   "execution_count": 29,
   "metadata": {
    "collapsed": false
   },
   "outputs": [
    {
     "name": "stdout",
     "output_type": "stream",
     "text": [
      "ingrese n para graficar: 20\n",
      "[0.05, 0.05, 0.05, 0.05, 0.05, 0.05, 0.05, 0.05, 0.05, 0.05, 0.05, 0.05, 0.05, 0.05, 0.05, 0.05, 0.05, 0.05, 0.05, 0.05]\n",
      "x probables segun la probabiidad arrojada por el generador \n",
      "[8, 0, 14, 3, 17, 11, 12, 1, 4, 6, 7, 14, 14, 7, 12, 3, 7, 5, 10, 17]\n"
     ]
    },
    {
     "data": {
      "image/png": "[encoded data removed]",
      "text/plain": [
       "<matplotlib.figure.Figure at 0x8861278>"
      ]
     },
     "metadata": {},
     "output_type": "display_data"
    }
   ],
   "source": [
    "import numpy as np\n",
    "import scipy as sp\n",
    "import matplotlib.pyplot as plt\n",
    "import math\n",
    "from scipy.integrate import quad\n",
    "\n",
    "n = input(\"ingrese n para graficar: \")\n",
    "\n",
    "def fun_pro_uniforme(n):  ###funcion de probabilidad \n",
    "    y=[]\n",
    "    for x in range(n):\n",
    "        y.append(1/float(n))\n",
    "    return y\n",
    "\n",
    "def fun_pro_acum(): ### creo el arreglo con la probabilidad acumulada\n",
    "    vg = []\n",
    "    vg.append(funp[0])\n",
    "    for i in range(n-1):\n",
    "        vg.append(funp[i+1]+vg[i])\n",
    "    return vg\n",
    "\n",
    "def congruencial(N):\n",
    "    \n",
    "    U = []\n",
    "    on = 0\n",
    "    x0 = 14\n",
    "    while on<N:\n",
    "        \n",
    "        x0 = ((787*x0)+535)%26353\n",
    "        on = on+1\n",
    "        U.append(float(x0)/26353)\n",
    "        \n",
    "    return U\n",
    "\n",
    "def prob_de_x(n):  ## de los numeros aleatorios de el generador saco los posibles x en n\n",
    "    \n",
    "    p2 = []\n",
    "    p2 = congruencial(n)\n",
    "    listax = []\n",
    "    for i in range(n):\n",
    "        \n",
    "        for j in range(len(funa)):\n",
    "            \n",
    "            if p2[i]<funa[j]:\n",
    "                listax.append(j)\n",
    "                break\n",
    "                \n",
    "    return listax  \n",
    "\n",
    "funp = fun_pro_uniforme(n)\n",
    "print funp\n",
    "\n",
    "plt.title(\"funcion de probabilidad\")\n",
    "plt.plot(funp, marker='x', linestyle=':')\n",
    "\n",
    "funa = fun_pro_acum()\n",
    "\n",
    "prob_x = prob_de_x(n)\n",
    "\n",
    "print \"x probables segun la probabiidad arrojada por el generador \"\n",
    "print prob_x"
   ]
  },
  {
   "cell_type": "markdown",
   "metadata": {},
   "source": [
    "\n"
   ]
  },
  {
   "cell_type": "code",
   "execution_count": null,
   "metadata": {
    "collapsed": true
   },
   "outputs": [],
   "source": []
  },
  {
   "cell_type": "markdown",
   "metadata": {},
   "source": [
    "# Distribucion de poisson"
   ]
  },
  {
   "cell_type": "markdown",
   "metadata": {},
   "source": [
    "En teoría de probabilidad y estadística, la distribución de Poisson es una distribución de probabilidad discreta que expresa, a partir de una frecuencia de ocurrencia media, la probabilidad de que ocurra un determinado número de eventos durante cierto período de tiempo. Concretamente, se especializa en la probabilidad de ocurrencia de sucesos con probabilidades muy pequeñas, o sucesos \"raros\".\n",
    "\n",
    "Fue descubierta por Siméon-Denis Poisson, que la dio a conocer en 1838 en su trabajo Recherches sur la probabilité des jugements en matières criminelles et matière civile (Investigación sobre la probabilidad de los juicios en materias criminales y civiles).\n",
    "\n",
    "<img src=\"imagenes/funpoi.png\" width=\"30%\" height=\"30%\" >\n",
    "\n",
    "funcion de probabilidad: \n",
    "<img src=\"imagenes/poi.png\" width=\"30%\" height=\"30%\" >"
   ]
  },
  {
   "cell_type": "code",
   "execution_count": 41,
   "metadata": {
    "collapsed": false
   },
   "outputs": [
    {
     "name": "stdout",
     "output_type": "stream",
     "text": [
      "ingrese k para graficar: 20\n",
      "ingrese probabilidad para graficar: 4\n",
      "x probables segun la probabiidad arrojada por el generador \n",
      "[4, 1, 5, 2, 6, 4, 4, 1, 2, 3, 3, 5, 5, 3, 5, 2, 3, 3, 4, 6]\n"
     ]
    },
    {
     "data": {
      "image/png": "[encoded data removed]",
      "text/plain": [
       "<matplotlib.figure.Figure at 0x7a365c0>"
      ]
     },
     "metadata": {},
     "output_type": "display_data"
    }
   ],
   "source": [
    "import numpy as np\n",
    "import scipy as sp\n",
    "import matplotlib.pyplot as plt\n",
    "import math\n",
    "from scipy.integrate import quad\n",
    "\n",
    "n = input(\"ingrese k para graficar: \")\n",
    "p = input(\"ingrese probabilidad para graficar: \")\n",
    "\n",
    "\n",
    "\n",
    "def fun_pro_poisson(n,p):  ###funcion de probabilidad \n",
    "    y=[]\n",
    "    for x in range(n):\n",
    "        y.append((float(float(np.e)**(-p))*float(p**x))/float(math.factorial(x)))\n",
    "    return y\n",
    "\n",
    "def fun_pro_acum(): ### creo el arreglo con la probabilidad acumulada\n",
    "    vg = []\n",
    "    vg.append(funp[0])\n",
    "    for i in range(n-1):\n",
    "        vg.append(funp[i+1]+vg[i])\n",
    "    return vg\n",
    "\n",
    "def congruencial(N):\n",
    "    \n",
    "    U = []\n",
    "    on = 0\n",
    "    x0 = 14\n",
    "    while on<N:\n",
    "        \n",
    "        x0 = ((787*x0)+535)%26353\n",
    "        on = on+1\n",
    "        U.append(float(x0)/26353)\n",
    "        \n",
    "    return U\n",
    "\n",
    "def prob_de_x(n):  ## de los numeros aleatorios de el generador saco los posibles x en n\n",
    "    \n",
    "    p2 = []\n",
    "    p2 = congruencial(n)\n",
    "    listax = []\n",
    "    for i in range(n):\n",
    "        \n",
    "        for j in range(len(funa)):\n",
    "            \n",
    "            if p2[i]<funa[j]:\n",
    "                listax.append(j)\n",
    "                break\n",
    "                \n",
    "    return listax      \n",
    "\n",
    "funp = fun_pro_poisson(n,p)\n",
    "\n",
    "plt.title(\"funcion de probabilidad\")\n",
    "plt.plot(funp, marker='x', linestyle=':')\n",
    "\n",
    "funa = fun_pro_acum()\n",
    "\n",
    "prob_x = prob_de_x(n)\n",
    "\n",
    "print \"x probables segun la probabiidad arrojada por el generador \"\n",
    "print prob_x"
   ]
  },
  {
   "cell_type": "code",
   "execution_count": 37,
   "metadata": {
    "collapsed": false
   },
   "outputs": [
    {
     "data": {
      "text/plain": [
       "2.718281828459045"
      ]
     },
     "execution_count": 37,
     "metadata": {},
     "output_type": "execute_result"
    }
   ],
   "source": [
    "np.e"
   ]
  },
  {
   "cell_type": "code",
   "execution_count": null,
   "metadata": {
    "collapsed": true
   },
   "outputs": [],
   "source": []
  }
 ],
 "metadata": {
  "kernelspec": {
   "display_name": "Python 2",
   "language": "python",
   "name": "python2"
  },
  "language_info": {
   "codemirror_mode": {
    "name": "ipython",
    "version": 2
   },
   "file_extension": ".py",
   "mimetype": "text/x-python",
   "name": "python",
   "nbconvert_exporter": "python",
   "pygments_lexer": "ipython2",
   "version": "2.7.11"
  }
 },
 "nbformat": 4,
 "nbformat_minor": 0
}
