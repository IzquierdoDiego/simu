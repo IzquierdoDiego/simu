{
 "cells": [
  {
   "cell_type": "markdown",
   "metadata": {},
   "source": [
    "#   Generación de Variables Aleatorias\n"
   ]
  },
  {
   "cell_type": "markdown",
   "metadata": {},
   "source": [
    "El punto de partida de todos los Métodos que estudiaremos a continuación es que disponemos de un buen generador de números aleatorios.\n",
    "\n",
    "Métodos\n",
    "\n",
    "1.- Inversión\n",
    "\n",
    "2.- Aceptación - Rechazo\n",
    "\n",
    "3.- Composición\n",
    "\n",
    "4.- Cuociente de Uniformes\n",
    "\n",
    "5.- Transformaciones\n",
    "\n",
    "6.- Específicos\n",
    "\n",
    "\n",
    "\n"
   ]
  },
  {
   "cell_type": "markdown",
   "metadata": {
    "collapsed": true
   },
   "source": [
    "# Metodo de inversion"
   ]
  },
  {
   "cell_type": "markdown",
   "metadata": {},
   "source": [
    "Este método sugiere que es posible muestrear una v.a. continua X, conociendo su función de Distribución F.\n",
    "\n",
    "\n",
    "Algoritmo\n",
    "\n",
    "\tP1: Generar U ~ U(0,1)\n",
    "\tP2: Definir X = F-1(U)\n",
    "\tP3: Generar la salida X \n",
    " \n",
    " en este caso usando el generador RANDU "
   ]
  },
  {
   "cell_type": "markdown",
   "metadata": {},
   "source": [
    "### RANDU "
   ]
  },
  {
   "cell_type": "code",
   "execution_count": 2,
   "metadata": {
    "collapsed": false,
    "scrolled": true
   },
   "outputs": [
    {
     "name": "stdout",
     "output_type": "stream",
     "text": [
      "numero de varialbles a generar1000\n"
     ]
    }
   ],
   "source": [
    "import numpy as np\n",
    "\n",
    "def variable(na,arreglov,probabilidad):\n",
    "    \n",
    "    x0 = 97\n",
    "    a = 5234   \n",
    "    m = 65539\n",
    "    c = 0\n",
    "   \n",
    "    while c<na:   #### p1\n",
    "\n",
    "        xf = ((a*x0))%m                 \n",
    "        u = float(xf)/m\n",
    "        ##print u\n",
    "        vector = [0]\n",
    "\n",
    "        for y  in range(len(probabilidad)):\n",
    "            vector.append(probabilidad[y]+vector[y])\n",
    "                      \n",
    "                \n",
    "        for r in range(len(probabilidad)):\n",
    "            if vector[r] < u < vector[r+1]:\n",
    "                variable_para_graficar.append(arreglov[r])    ## p2\n",
    "                ##print variable_para_graficar\n",
    "            else:\n",
    "                pass\n",
    "        \n",
    "        c = c+1\n",
    "        x0 = xf\n",
    "    return variable_para_graficar\n",
    "\n",
    "\n",
    "variable_para_graficar = []\n",
    "na = input(\"numero de varialbles a generar\")\n",
    "variable(na,[1,2,3,4,5,6],[0.16666667,0.16666667,0.16666667,0.16666667,0.16666667,0.16666667])\n",
    "\n",
    "from matplotlib.pylab import hist, show\n",
    "hist(variable_para_graficar,7, (0,7))    ## p3\n",
    "show()\n"
   ]
  },
  {
   "cell_type": "code",
   "execution_count": 3,
   "metadata": {
    "collapsed": false
   },
   "outputs": [
    {
     "name": "stdout",
     "output_type": "stream",
     "text": [
      "The Zen of Python, by Tim Peters\n",
      "\n",
      "Beautiful is better than ugly.\n",
      "Explicit is better than implicit.\n",
      "Simple is better than complex.\n",
      "Complex is better than complicated.\n",
      "Flat is better than nested.\n",
      "Sparse is better than dense.\n",
      "Readability counts.\n",
      "Special cases aren't special enough to break the rules.\n",
      "Although practicality beats purity.\n",
      "Errors should never pass silently.\n",
      "Unless explicitly silenced.\n",
      "In the face of ambiguity, refuse the temptation to guess.\n",
      "There should be one-- and preferably only one --obvious way to do it.\n",
      "Although that way may not be obvious at first unless you're Dutch.\n",
      "Now is better than never.\n",
      "Although never is often better than *right* now.\n",
      "If the implementation is hard to explain, it's a bad idea.\n",
      "If the implementation is easy to explain, it may be a good idea.\n",
      "Namespaces are one honking great idea -- let's do more of those!\n"
     ]
    }
   ],
   "source": [
    "import this"
   ]
  },
  {
   "cell_type": "code",
   "execution_count": null,
   "metadata": {
    "collapsed": true
   },
   "outputs": [],
   "source": []
  }
 ],
 "metadata": {
  "kernelspec": {
   "display_name": "Python 2",
   "language": "python",
   "name": "python2"
  },
  "language_info": {
   "codemirror_mode": {
    "name": "ipython",
    "version": 2
   },
   "file_extension": ".py",
   "mimetype": "text/x-python",
   "name": "python",
   "nbconvert_exporter": "python",
   "pygments_lexer": "ipython2",
   "version": "2.7.11"
  }
 },
 "nbformat": 4,
 "nbformat_minor": 0
}
