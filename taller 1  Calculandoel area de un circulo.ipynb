{
 "cells": [
  {
   "cell_type": "code",
   "execution_count": 1,
   "metadata": {
    "collapsed": false
   },
   "outputs": [
    {
     "name": "stdout",
     "output_type": "stream",
     "text": [
      "Numeros de muestras: 45\n",
      "randux\n",
      "randuy\n"
     ]
    }
   ],
   "source": [
    "import numpy as np     ## https://www.youtube.com/watch?v=UltVlYCacD0\n",
    "import matplotlib.pyplot as plt  ## https://www.youtube.com/watch?v=RdnTJfFiqO4\n",
    "import math\n",
    " \n",
    "na=input(\"Ingrese la cantidad de numeros que desea generar: \")\n",
    "\n",
    "def randux(na):\n",
    "    \n",
    "    Ux =[]\n",
    "    x0 = 5\n",
    "    c = 0\n",
    "    while c<na:\n",
    "        x0 =((1*x0)+45)%30269\n",
    "        c = c+1\n",
    "       \n",
    "        Ux.append(float(x0)/30269)\n",
    "        \n",
    "    return Ux\n",
    " \n",
    "def randuy(na):\n",
    "    \n",
    "    Uy = []\n",
    "    x0 = 10\n",
    "    c = 0\n",
    "    while c<na:\n",
    "        x0 =((2*x0)+54)%30323\n",
    "        c = c+1\n",
    "         \n",
    "        Uy.append(float(x0)/30323)   ## http://pythonya.appspot.com/detalleconcepto?deta=Las%20listas%20tratadas%20como%20objetos\n",
    "        \n",
    "    return Uy\n",
    " \n",
    "Ux = randux(na)\n",
    "Uy = randuy(na)\n",
    "l = 5  ##lado cuadrado\n",
    "r = 5\n",
    "\n",
    "for i in range(na):\n",
    "    Ux[i] = 2*l*Ux[i]-l\n",
    " \n",
    "for i in range(na):\n",
    "    Uy[i] = 2*l*Uy[i]-l\n",
    "\n",
    "plt.ion()  ## http://pybonacci.org/2012/05/19/manual-de-introduccion-a-matplotlib-pyplot-ii-creando-y-manejando-ventanas-y-configurando-la-sesion/\n",
    "axex = plt.gca()\n",
    "\n",
    "area   = math.pi*(r**2)\n",
    "N = 1\n",
    "d = 0;\n",
    "ax.plot([0]*13,range(-6,7))\n",
    "ax.plot(range(-6,7),[0]*13)\n",
    "\n",
    "for i in range(na):\n",
    "    if (Ux[i]**2+Uy[i]**2)<=(r**2):\n",
    "        ax.plot(Ux[i],Uy[i],\"b*\")\n",
    "        N = N+1\n",
    "        \n",
    "    else:\n",
    "        ax.plot(Ux[i],Uy[i],\"r*\")\n",
    "    if i%10==0:\n",
    "        plt.draw()\n",
    "    title = \"Area Teorica: \"+str(area)+\" Area Practica: \"+str(N*(float(1)/(na*(2*r)**2)))+\"\\n\"+\"Error: \"+str()\n",
    "    plt.title(title)\n"
   ]
  },
  {
   "cell_type": "code",
   "execution_count": 1,
   "metadata": {
    "collapsed": false,
    "scrolled": true
   },
   "outputs": [
    {
     "name": "stdout",
     "output_type": "stream",
     "text": [
      "dosl\n"
     ]
    }
   ],
   "source": [
    "print \"dosl\""
   ]
  },
  {
   "cell_type": "code",
   "execution_count": 4,
   "metadata": {
    "collapsed": true
   },
   "outputs": [],
   "source": [
    "import numpy as np\n",
    "import math\n",
    "import matplotlib.pyplot as plt\n",
    "\n",
    "\n",
    "\n",
    "def randuX(n):\n",
    "    \"\"\"\n",
    "    Generador Congruencial Mixto  Xn = (170*Xn-1 + 1) mod 30323.\n",
    "    Devuelve una lista que tiene n valores aproximados a una distribución uniforme.\n",
    "           \"\"\"\n",
    "    #Semilla\n",
    "    x0 = 7          \n",
    "    valores = []\n",
    "\n",
    "    for i in range(0,n):\n",
    "        xi = (170*x0 + 1)%30323\n",
    "        ui = xi/30323.0\n",
    "        valores.append(ui)\n",
    "        x0 = xi\n",
    "    \n",
    "    return valores\n",
    "\n",
    "\n",
    "def randuY(n):\n",
    "    \"\"\"\n",
    "    Generador Congruencial Mixto  Xn = (170*Xn-1 + 1) mod 30323.\n",
    "    Devuelve una lista que tiene n valores aproximados a una distribución uniforme.\n",
    "           \"\"\"\n",
    "    #Semilla\n",
    "    x0 = 7         \n",
    "    valores = []\n",
    "\n",
    "    for i in range(0,n):\n",
    "        xi = (172*x0 + 1)%30307\n",
    "        ui = xi/30307.0\n",
    "        valores.append(ui)\n",
    "        x0 = xi\n",
    "\n",
    "    return valores\n",
    "\n",
    "\n",
    "def calcular_area_circulo(r):\n",
    "    \"\"\"Devuelve el área del circulo con radio r.\"\"\"\n",
    "\n",
    "    #Número de coordenadas (x,y) para generar. \n",
    "    num = 500\n",
    "\n",
    "    #Obteniendo lista de valores Ux.                   \n",
    "    coordenadasUx = randuX(num)\n",
    "\n",
    "    #Obteniendo lista de valores Uy.  \n",
    "    coordenadasUy = randuY(num)  \n",
    "    coordenadasXi = []\n",
    "    coordenadasYi = []\n",
    "\n",
    "    # 2*k = valor para el lado del cuadrado en el cual se registrará el círculo.\n",
    "    k = r       \n",
    "    \n",
    "    #Conversión de las coordenadas [Ux,Uy] en el rango [0,1], \n",
    "    #Obteniendo los valores para las nuevas coordenadas [Xi,Yi] en el rango [-r,r].\n",
    "    for i in range(0, num):\n",
    "        xi = 2*k*coordenadasUx[i]-k\n",
    "        coordenadasXi.append(xi)\n",
    "        yi = 2*k*coordenadasUy[i]-k\n",
    "        coordenadasYi.append(yi)\n",
    "        \n",
    "    #Graficando el círculo registrado en un cuadrado de lado 2*k .  \n",
    "    x = np.arange(-r,r+1,0.01)\n",
    "\n",
    "    # Obteniendo los valores de y con la función para el circulo \n",
    "    # Centro en (0,0);  y = raízCuadrada(r^2 - x^2)\n",
    "    y = np.sqrt(r**2 - x**2) \n",
    "    y1 = -y\n",
    "    x1 = np.arange(-k,k,0.01)\n",
    "    y2 = 0*x1 + k\n",
    "    y3 = 0*x1 -k\n",
    "    y4 = np.arange(-k,k,0.01)\n",
    "    x2 = 0*y4 + k\n",
    "    x3 = 0*y4 - k\n",
    "    plt.plot(x,y)\n",
    "    plt.plot(x,y1,color='blue')\n",
    "    plt.plot(x1,y2,color='red')\n",
    "    plt.plot(x1,y3,color='red')\n",
    "    plt.plot(x2,y4,color='red')\n",
    "    plt.plot(x3,y4,color='red')\n",
    "    \n",
    "    cont = 0    \n",
    "    for i in range(0, num):\n",
    "        xi = coordenadasXi[i]\n",
    "        yi = coordenadasYi[i]\n",
    "        if r**2 >= (xi**2 + yi**2):\n",
    "           cont = cont + 1        \n",
    "           plt.plot(coordenadasXi[i], coordenadasYi[i], 'ro')\n",
    "        else:\n",
    "           plt.plot(coordenadasXi[i], coordenadasYi[i], 'go')\n",
    "    \n",
    "   \n",
    "    areaEstimada = (cont/float(num))*((2*r)**2)\n",
    "    areaReal = math.pi*(r**2)\n",
    "    \n",
    "    plt.axis([-k-3, k+3, -k-3, k+3 ])\n",
    "    plt.xlabel('Coordenadas x')  \n",
    "    plt.ylabel('Coordenadas y')  \n",
    "    plt.title('Area real = ' + str(areaReal) + '\\nArea estimada = ' + str(areaEstimada) + \n",
    "    '\\nError = ' + str(abs(areaReal-areaEstimada)) )\n",
    "    plt.show()\n",
    "    "
   ]
  },
  {
   "cell_type": "code",
   "execution_count": null,
   "metadata": {
    "collapsed": true
   },
   "outputs": [],
   "source": []
  },
  {
   "cell_type": "code",
   "execution_count": 2,
   "metadata": {
    "collapsed": false
   },
   "outputs": [
    {
     "name": "stdout",
     "output_type": "stream",
     "text": [
      "moco\n"
     ]
    }
   ],
   "source": [
    "print\"moco\""
   ]
  },
  {
   "cell_type": "code",
   "execution_count": null,
   "metadata": {
    "collapsed": true
   },
   "outputs": [],
   "source": []
  }
 ],
 "metadata": {
  "kernelspec": {
   "display_name": "Python 2",
   "language": "python",
   "name": "python2"
  },
  "language_info": {
   "codemirror_mode": {
    "name": "ipython",
    "version": 2
   },
   "file_extension": ".py",
   "mimetype": "text/x-python",
   "name": "python",
   "nbconvert_exporter": "python",
   "pygments_lexer": "ipython2",
   "version": "2.7.11"
  }
 },
 "nbformat": 4,
 "nbformat_minor": 0
}
